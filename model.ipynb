{
 "cells": [
  {
   "cell_type": "markdown",
   "id": "bb9b7db2-0f7c-4728-822c-9bcf0baaa618",
   "metadata": {
    "jp-MarkdownHeadingCollapsed": true
   },
   "source": [
    "# Load"
   ]
  },
  {
   "cell_type": "code",
   "execution_count": 32,
   "id": "243c90cf-7894-4357-a86f-6ca616471189",
   "metadata": {},
   "outputs": [],
   "source": [
    "import pandas as pd\n",
    "import numpy as np\n",
    "import polars as pl\n",
    "import gc\n",
    "import time\n",
    "\n",
    "import matplotlib.pyplot as plt\n",
    "import seaborn as sns\n",
    "\n",
    "import statsmodels.api as sm\n",
    "import xgboost as xgb\n",
    "import catboost as cb\n",
    "import lightgbm as lgb\n",
    "from lightgbm import LGBMClassifier\n",
    "\n",
    "from sklearn.feature_selection import mutual_info_classif\n",
    "from sklearn.model_selection import train_test_split\n",
    "from sklearn.model_selection import StratifiedKFold\n",
    "from sklearn.preprocessing import RobustScaler\n",
    "from sklearn.metrics import roc_auc_score\n",
    "from numpy.linalg import LinAlgError\n",
    "from collections import defaultdict\n",
    "from itertools import combinations\n",
    "from catboost import Pool\n",
    "from scipy import stats\n",
    "\n",
    "pd.set_option('display.max_columns', None)\n",
    "pl.Config.set_tbl_cols(None)\n",
    "\n",
    "import warnings\n",
    "def ignore_warn(*args, **kwargs):\n",
    "    pass\n",
    "warnings.warn = ignore_warn\n",
    "\n",
    "%matplotlib inline\n",
    "\n",
    "np.random.seed(42)"
   ]
  },
  {
   "cell_type": "code",
   "execution_count": 33,
   "id": "ea9a9a39-5aad-4399-9af3-655ec62dcfa0",
   "metadata": {
    "scrolled": true
   },
   "outputs": [],
   "source": [
    "train = pl.read_parquet('train.parquet')"
   ]
  },
  {
   "cell_type": "markdown",
   "id": "1c40567f-c896-45f3-9dea-823093f61d67",
   "metadata": {},
   "source": [
    "# Functions"
   ]
  },
  {
   "cell_type": "markdown",
   "id": "abbe190f-3a87-4c5c-ba57-a3bf4f96eb83",
   "metadata": {
    "jp-MarkdownHeadingCollapsed": true
   },
   "source": [
    "### Training:"
   ]
  },
  {
   "cell_type": "code",
   "execution_count": 34,
   "id": "df12bf83-2bc2-4bae-99f7-435903693026",
   "metadata": {},
   "outputs": [],
   "source": [
    "def train_logit_model(X, y):\n",
    "    X = sm.add_constant(X, has_constant='skip')\n",
    "    \n",
    "    model = sm.Logit(y, X).fit()\n",
    "    return model"
   ]
  },
  {
   "cell_type": "code",
   "execution_count": 35,
   "id": "6f3bf700-248b-40bf-9f8f-8555eb9a7ea8",
   "metadata": {},
   "outputs": [],
   "source": [
    "def train_xgboost_model(df, mandatory):\n",
    "    X_train, X_test, y_train, y_test = preprocess4xgboost(df)\n",
    "    params = {\n",
    "        'booster': 'gbtree',\n",
    "        'objective': 'binary:logistic',\n",
    "        'eta': 0.05,\n",
    "        'alpha':  0.2545607592482198,\n",
    "        'subsample': 0.8388163485383147, \n",
    "        'colsample_bytree': 0.2732499701466825, \n",
    "        \"max_depth\": 16,\n",
    "        'min_child_weight': 5,\n",
    "        'gamma': 0.0017688666476104672,\n",
    "        \"random_state\": 42,\n",
    "        \"eval_metric\": \"auc\",\n",
    "        'max_bin': 262143,\n",
    "        \"nthreads\": -1,\n",
    "        \"use_label_encoder\": False,\n",
    "        'n_estimators': 100,\n",
    "    }\n",
    "    eval = [(X_test, y_test)]\n",
    "    model = xgb.XGBClassifier(**params)\n",
    "    model.fit(X_train, y_train, eval_set=eval, verbose=True)\n",
    "    return model"
   ]
  },
  {
   "cell_type": "code",
   "execution_count": 89,
   "id": "b0b23e4f-35af-47e9-a47c-bd89f3bfb721",
   "metadata": {},
   "outputs": [],
   "source": [
    "def train_lgmb_model(X_train, X_test, y_train, y_test):\n",
    "    lgbm_params = {\n",
    "        'n_estimators': 2000,\n",
    "        'max_depth': 6,\n",
    "        \"early_stopping_round\": 50,\n",
    "        \"max_bin\": 262143,\n",
    "        'num_leaves': 223,\n",
    "        'learning_rate': 0.028095688623590447,\n",
    "        'min_child_samples': 54,\n",
    "        'subsample': 0.5395472919165504,\n",
    "        'colsample_bytree': 0.547518064129546,\n",
    "        'lambda_l1': 3.4444245446562,\n",
    "        'lambda_l2': 2.87490408088595e-05\n",
    "    }\n",
    "    model = LGBMClassifier(**lgbm_params)\n",
    "\n",
    "    model.fit(X_train, y_train,\n",
    "                eval_set=[(X_test, y_test)],\n",
    "                eval_metric=\"auc\")\n",
    "\n",
    "    # Evaluate the model\n",
    "    score = model.best_score_['valid_0']['auc']\n",
    "    print('Fold ROC-AUC score: ', score)\n",
    "    return model"
   ]
  },
  {
   "cell_type": "markdown",
   "id": "ceb32f8e-7255-4fb9-870d-5a078aaa487c",
   "metadata": {
    "jp-MarkdownHeadingCollapsed": true
   },
   "source": [
    "### Preprocessing:"
   ]
  },
  {
   "cell_type": "code",
   "execution_count": 36,
   "id": "70cc7824-fd5c-43a7-8946-87d0533ce5a0",
   "metadata": {},
   "outputs": [],
   "source": [
    "def preprocess4xgboost(df):\n",
    "    df = df[:100000].to_pandas()\n",
    "    X = df.drop(columns=['id', 'Response'], axis=1)\n",
    "    y = df['Response']\n",
    "    \n",
    "    X_train, X_test, y_train, y_test = train_test_split(X, y, test_size=0.15, random_state=42)\n",
    "    X_train, X_test = X_train[mandatory], X_test[mandatory]\n",
    "    \n",
    "    #dtrain = xgb.DMatrix(X_train, label=y_train)\n",
    "    #dtest = xgb.DMatrix(X_test, label=y_test)\n",
    "    return X_train, X_test, y_train, y_test"
   ]
  },
  {
   "cell_type": "markdown",
   "id": "c0bb2ede-ec3e-4559-8f97-77fefe2390bf",
   "metadata": {
    "jp-MarkdownHeadingCollapsed": true
   },
   "source": [
    "### Postprocessing:"
   ]
  },
  {
   "cell_type": "code",
   "execution_count": 37,
   "id": "ffbea4f0-959a-422b-9fc1-491bed8c64f3",
   "metadata": {},
   "outputs": [],
   "source": [
    "def postprocess_data(y_pred, weights):\n",
    "    y_pred = (y_pred*weights)/100\n",
    "    return y_pred"
   ]
  },
  {
   "cell_type": "markdown",
   "id": "10c226e1-b5ce-418b-ad80-9a1d16cf4bd7",
   "metadata": {},
   "source": [
    "### Submission:"
   ]
  },
  {
   "cell_type": "code",
   "execution_count": 38,
   "id": "7b57ced6-579d-4e35-8555-ec91430116f7",
   "metadata": {},
   "outputs": [],
   "source": [
    "def get_weights(df):\n",
    "    df = df.with_columns([\n",
    "        pl.when(pl.col('Vehicle_Damage') == 1)\n",
    "          .then(0.2405)\n",
    "          .otherwise(0.0041)\n",
    "          .alias('vdamage_proba')\n",
    "    ])\n",
    "    \n",
    "    df = df.with_columns([\n",
    "        pl.when(pl.col('Previously_Insured') == 0)\n",
    "          .then(0.2284)\n",
    "          .otherwise(0.0006)\n",
    "          .alias('pinsured_proba')\n",
    "    ])\n",
    "    \n",
    "    df = df.with_columns([\n",
    "        pl.when(pl.col('Vehicle_Age') == 0)\n",
    "          .then(0.0414)\n",
    "          .when(pl.col('Vehicle_Age') == 1)\n",
    "          .then(0.1777)\n",
    "          .otherwise(0.299)\n",
    "          .alias('vage_proba')\n",
    "    ])\n",
    "\n",
    "    df = df.with_columns([\n",
    "        pl.when(pl.col('Driving_License') == 0)\n",
    "          .then(0.0551)\n",
    "          .otherwise(0.1231)\n",
    "          .alias('dlicence_proba')  \n",
    "    ])\n",
    "\n",
    "    \n",
    "    df = df.with_columns([\n",
    "        pl.lit(None).alias('age_proba'),\n",
    "        pl.lit(None).alias('vintage_proba'),\n",
    "        pl.lit(None).alias('psc_proba'),\n",
    "    ])\n",
    "    \n",
    "    for i in range(20, 86):\n",
    "        df = df.with_columns(\n",
    "            pl.when(pl.col('Age') == i)\n",
    "              .then(age[i-20])\n",
    "              .otherwise(pl.col('age_proba'))\n",
    "              .alias('age_proba')\n",
    "        )\n",
    "\n",
    "    for i in range(10, 300):\n",
    "        df = df.with_columns(\n",
    "            pl.when(pl.col('Vintage') == i)\n",
    "              .then(vintage[i-20])\n",
    "              .otherwise(pl.col('vintage_proba'))\n",
    "              .alias('vintage_proba')\n",
    "        )\n",
    "\n",
    "    df = df.with_columns([\n",
    "        pl.when(pl.col('Gender') == 0)\n",
    "          .then(0.1032)\n",
    "          .otherwise(0.1396)\n",
    "          .alias('gender_proba')\n",
    "    ])\n",
    "\n",
    "    k = 0\n",
    "    for i in psc_values:\n",
    "        df = df.with_columns(\n",
    "            pl.when(pl.col('Policy_Sales_Channel') == i)\n",
    "              .then(channel[k])\n",
    "              .when(pl.col('Policy_Sales_Channel') == 144)\n",
    "              .then(channel[136])\n",
    "              .when(pl.col('Policy_Sales_Channel') == 149)\n",
    "              .then(channel[140])\n",
    "              .otherwise(pl.col('psc_proba'))\n",
    "              .alias('psc_proba')\n",
    "        )\n",
    "        k += 1\n",
    "\n",
    "    df = df.with_columns([\n",
    "        ((pl.col('psc_proba') * pl.col('gender_proba') * pl.col('vintage_proba') * pl.col('vdamage_proba') * pl.col('pinsured_proba') * pl.col('vage_proba') * pl.col('age_proba') * pl.col('dlicence_proba') * 10e16)**(1/8)).alias('weight')\n",
    "    ])\n",
    "\n",
    "    weights = df['weight'].to_pandas().values\n",
    "    \n",
    "    return df, weights"
   ]
  },
  {
   "cell_type": "code",
   "execution_count": 39,
   "id": "0f29ae31-67b6-466a-a101-e12cf99bd364",
   "metadata": {},
   "outputs": [],
   "source": [
    "def new_features(df):\n",
    "    df = df.with_columns([\n",
    "        (pl.col('Previously_Insured') * (1 - pl.col('Vehicle_Damage'))).alias('pinsuredxvdamage1'),\n",
    "        (pl.col('Vehicle_Damage') * (1 - pl.col('Previously_Insured'))).alias('pinsuredxvdamage2')\n",
    "    ])\n",
    "    return df"
   ]
  },
  {
   "cell_type": "code",
   "execution_count": 40,
   "id": "71552bd6-1966-4288-9413-091d6dba5596",
   "metadata": {},
   "outputs": [],
   "source": [
    "def prepare_data(path, mandatory):\n",
    "    df = pl.read_parquet(path)\n",
    "    df = pl_encoder(df)\n",
    "    df, weights = get_weights(df)\n",
    "    df = new_features(df)\n",
    "    df[num_cols] = scaler.transform(df[num_cols])\n",
    "\n",
    "    df = df.to_pandas()\n",
    "    ids = df['id'].values\n",
    "    df = df[mandatory].values\n",
    "    return df, ids, weights"
   ]
  },
  {
   "cell_type": "code",
   "execution_count": 41,
   "id": "7ad4f583-c4e7-49d9-9ac2-936187bab693",
   "metadata": {},
   "outputs": [],
   "source": [
    "def predict(model, mandatory):\n",
    "    df, ids, weights = prepare_data('test.parquet', mandatory)\n",
    "    \n",
    "    df = sm.add_constant(df, has_constant='skip')\n",
    "\n",
    "    y_pred = model.predict(df)\n",
    "    #y_pred = postprocess_data(y_pred, weights)\n",
    "    return ids, y_pred"
   ]
  },
  {
   "cell_type": "code",
   "execution_count": 42,
   "id": "2fdcfb96-d063-44d1-90ec-dfd1c5b2e3a7",
   "metadata": {},
   "outputs": [],
   "source": [
    "def make_submission_file(ids, predicted_response):\n",
    "    predicted_prices_df = pd.DataFrame({\n",
    "        'id': ids,\n",
    "        'Response': predicted_response\n",
    "    })\n",
    "    predicted_prices_df.to_parquet('submission.parquet', index=False)"
   ]
  },
  {
   "cell_type": "code",
   "execution_count": 43,
   "id": "f948fbd8-8ca1-4c8f-bbc4-6d2f44e02da9",
   "metadata": {},
   "outputs": [],
   "source": [
    "def submit(model):\n",
    "    ids, predicted_response = predict(model, mandatory)\n",
    "    make_submission_file(ids, predicted_response)"
   ]
  },
  {
   "cell_type": "markdown",
   "id": "d01b51ba-61b9-424a-8ec7-fe383d088faa",
   "metadata": {
    "jp-MarkdownHeadingCollapsed": true
   },
   "source": [
    "### Encoding:"
   ]
  },
  {
   "cell_type": "code",
   "execution_count": 44,
   "id": "889ad6cc-fb3a-45b1-9bfa-eb74519ab94d",
   "metadata": {},
   "outputs": [],
   "source": [
    "def pl_encoder(df):\n",
    "    df = df.with_columns([\n",
    "        pl.when(pl.col('Gender') == 'Female').then(0)\n",
    "          .when(pl.col('Gender') == 'Male').then(1)\n",
    "          .otherwise(None)\n",
    "          .alias('Gender').cast(pl.Int8),\n",
    "        \n",
    "        pl.col('Driving_License').cast(pl.Int8),\n",
    "        pl.col('Previously_Insured').cast(pl.Int8),\n",
    "        \n",
    "        pl.when(pl.col('Vehicle_Age') == '< 1 Year').then(0)\n",
    "          .when(pl.col('Vehicle_Age') == '1-2 Year').then(1)\n",
    "          .when(pl.col('Vehicle_Age') == '> 2 Years').then(2)\n",
    "          .otherwise(None)\n",
    "          .alias('Vehicle_Age').cast(pl.Int8),\n",
    "        \n",
    "        pl.when(pl.col('Vehicle_Damage') == 'No').then(0)\n",
    "          .when(pl.col('Vehicle_Damage') == 'Yes').then(1)\n",
    "          .otherwise(None)\n",
    "          .alias('Vehicle_Damage').cast(pl.Int8),\n",
    "        \n",
    "        pl.col('id').cast(pl.Int32),\n",
    "        pl.col('Age').cast(pl.Int8),\n",
    "        pl.col('Vintage').cast(pl.Int16),\n",
    "        pl.col('Region_Code').cast(pl.Float32),\n",
    "        pl.col('Annual_Premium').cast(pl.Float32),\n",
    "        pl.col('Policy_Sales_Channel').cast(pl.Float32),\n",
    "    ])\n",
    "    return df"
   ]
  },
  {
   "cell_type": "markdown",
   "id": "58964408-1a88-4e6f-a1b8-40e1fd911096",
   "metadata": {
    "jp-MarkdownHeadingCollapsed": true
   },
   "source": [
    "### Plotting:"
   ]
  },
  {
   "cell_type": "code",
   "execution_count": 45,
   "id": "0743f1c6-2733-4a84-9cba-b2607eb799f5",
   "metadata": {},
   "outputs": [],
   "source": [
    "def plot_date_components_histogram_seaborn(df, component, bins):\n",
    "    fig = plt.figure(figsize=(15, 5))\n",
    "    sns.histplot(data=df, x=component, bins=bins, multiple=\"stack\", kde=False, hue='Response')\n",
    "    plt.title(f'{component.capitalize()} Distribution')\n",
    "    plt.xlabel(component.capitalize())\n",
    "    plt.ylabel('Frequency')\n",
    "    plt.show()"
   ]
  },
  {
   "cell_type": "code",
   "execution_count": 46,
   "id": "b8616bf3-6174-4d1f-9fd6-5cbdb1e69f54",
   "metadata": {},
   "outputs": [],
   "source": [
    "def plot_feature_importanc(df):\n",
    "    model = train_xgboost_model(df, mandatory)\n",
    "    feature_names = df.drop('id', 'Response').columns\n",
    "\n",
    "    # Plot feature importances\n",
    "    importances = model.feature_importances_\n",
    "    display(importances)\n",
    "    indices = np.argsort(importances)[::-1]\n",
    "    \n",
    "    plt.figure(figsize=(10, 6))\n",
    "    plt.title('Feature Importances')\n",
    "    plt.bar(range(len(feature_names)), importances[indices], align='center')\n",
    "    plt.xticks(range(len(feature_names)), [feature_names[i] for i in indices], rotation=90)\n",
    "    plt.tight_layout()\n",
    "    plt.show()"
   ]
  },
  {
   "cell_type": "code",
   "execution_count": 47,
   "id": "de695f36-c1dd-4696-a7c6-cc219d9a9cde",
   "metadata": {},
   "outputs": [],
   "source": [
    "def visualize_data(data, features):\n",
    "    for feature in features:\n",
    "        plt.figure(figsize=(10, 4))\n",
    "\n",
    "        plt.subplot(1, 2, 1)\n",
    "        sns.boxplot(data[feature])\n",
    "        plt.title(f'Boxplot of {feature}')\n",
    "\n",
    "        plt.subplot(1, 2, 2)\n",
    "        sns.histplot(data[feature], kde=True)\n",
    "        plt.title(f'Distribution of {feature}')\n",
    "\n",
    "        plt.show()"
   ]
  },
  {
   "cell_type": "code",
   "execution_count": 48,
   "id": "536d6dc8-2c8a-47e2-86c2-d498d90a7e47",
   "metadata": {},
   "outputs": [],
   "source": [
    "def plot_residuals(residuals, y_pred):\n",
    "    plt.scatter(y_pred, residuals)\n",
    "    plt.title('Residuals vs. Predicted Values')\n",
    "    plt.xlabel('Predicted Values')\n",
    "    plt.ylabel('Residuals')\n",
    "    plt.axhline(y=0, color='r', linestyle='--')\n",
    "    plt.show()"
   ]
  },
  {
   "cell_type": "code",
   "execution_count": 49,
   "id": "803b7c64-97df-4dd2-ba0d-7644d466959a",
   "metadata": {},
   "outputs": [],
   "source": [
    "def normality(residuals):\n",
    "    stats.probplot(residuals, dist=\"norm\", plot=plt)\n",
    "    plt.title('Normal Q-Q plot')\n",
    "    plt.show()"
   ]
  },
  {
   "cell_type": "markdown",
   "id": "577664c2-2f00-47df-8e22-a1f16b1d211e",
   "metadata": {
    "jp-MarkdownHeadingCollapsed": true
   },
   "source": [
    "### CV:"
   ]
  },
  {
   "cell_type": "code",
   "execution_count": 50,
   "id": "cb0d11d7-d42b-4732-afe4-7b99aef14c03",
   "metadata": {},
   "outputs": [],
   "source": [
    "def feature_combinations_with_mandatory(mandatory, remaining ,n):\n",
    "    all_combinations = []\n",
    "    combinations_r = combinations(remaining, n)\n",
    "    for combo in combinations_r:\n",
    "        all_combinations.append(mandatory + list(combo))\n",
    "    return all_combinations"
   ]
  },
  {
   "cell_type": "code",
   "execution_count": 51,
   "id": "5e736ddb-1ff8-44a1-828a-d7ab3b50a72f",
   "metadata": {},
   "outputs": [],
   "source": [
    "def score_logit_model(X_train, y_train, X_val, y_val, weights):\n",
    "    model = train_logit_model(X_train, y_train)\n",
    "    \n",
    "    X_val = sm.add_constant(X_val)\n",
    "\n",
    "    y_pred = model.predict(X_val)\n",
    "    y_pred = postprocess_data(y_pred, weights)\n",
    "    score = roc_auc_score(y_val, y_pred)\n",
    "    return score"
   ]
  },
  {
   "cell_type": "code",
   "execution_count": 52,
   "id": "d41e6303-2c3a-4f3a-a535-4e6494c58877",
   "metadata": {},
   "outputs": [],
   "source": [
    "def k_folds(y, k):\n",
    "    class_indices = defaultdict(list)\n",
    "    for idx, label in enumerate(y):\n",
    "        class_indices[label].append(idx)\n",
    "        \n",
    "    folds = [[] for _ in range(k)]\n",
    "    for label, indices in class_indices.items():\n",
    "        np.random.shuffle(indices)\n",
    "        for i, index in enumerate(indices):\n",
    "            folds[i % k].append(index)\n",
    "\n",
    "    folds = [np.array(fold) for fold in folds]\n",
    "    return folds"
   ]
  },
  {
   "cell_type": "code",
   "execution_count": 53,
   "id": "d1b92ca8-3606-4294-9bb0-496432504adb",
   "metadata": {},
   "outputs": [],
   "source": [
    "def cross_validate(X, y, weights, k):\n",
    "    folds = k_folds(y, k)\n",
    "    \n",
    "    scores = []\n",
    "    \n",
    "    for i in range(k):\n",
    "        val_indices = folds[i]\n",
    "        train_indices = np.hstack([folds[j] for j in range(k) if j != i])\n",
    "        \n",
    "        X_train, X_val = X[train_indices], X[val_indices]\n",
    "        y_train, y_val = y[train_indices], y[val_indices]\n",
    "        weight = weights[val_indices]\n",
    "    \n",
    "        scores.append(score_logit_model(X_train, y_train, X_val, y_val, weight))\n",
    "    \n",
    "    mean_score = np.mean(scores)\n",
    "    std_score = np.std(scores)\n",
    "    print(f'Cross-validation scores: {scores}')\n",
    "    print(f'Mean cross-validation score: {mean_score}')\n",
    "    print(f'Standard deviation of cross-validation scores: {std_score}')"
   ]
  },
  {
   "cell_type": "markdown",
   "id": "d63173ac-644d-485a-95db-e428b2ca5710",
   "metadata": {},
   "source": [
    "# Feature Engineering"
   ]
  },
  {
   "cell_type": "markdown",
   "id": "b0819abf-d352-4a6e-b4bb-51d34cb5e9f6",
   "metadata": {
    "jp-MarkdownHeadingCollapsed": true
   },
   "source": [
    "## Columns:"
   ]
  },
  {
   "cell_type": "code",
   "execution_count": 54,
   "id": "fc91f2cc-f9e6-4ef6-bbad-1010cdc89124",
   "metadata": {},
   "outputs": [],
   "source": [
    "target = 'Response'\n",
    "initial_cols = train.drop('Response').columns\n",
    "initial_train_cols = train.drop('Response', 'id').columns\n",
    "cat_cols = [col for col in initial_train_cols if train[col].dtype == pl.Utf8]\n",
    "num_cols = [col for col in initial_train_cols if train[col].dtype in {pl.Int8, pl.Int16, pl.Int32, pl.Int64, pl.Float32, pl.Float64}]"
   ]
  },
  {
   "cell_type": "markdown",
   "id": "1fae86e5-13a6-488e-895e-dfcfd5e4fb77",
   "metadata": {
    "jp-MarkdownHeadingCollapsed": true
   },
   "source": [
    "## Encoding:"
   ]
  },
  {
   "cell_type": "code",
   "execution_count": 55,
   "id": "c3bdf5c8-f398-44f4-aa79-c9d0fa000c03",
   "metadata": {},
   "outputs": [],
   "source": [
    "gender_map = {\n",
    "    'Female': 0,\n",
    "    'Male': 1\n",
    "}\n",
    "\n",
    "vehicle_age_map = {\n",
    "    '< 1 Year': 0,\n",
    "    '1-2 Year': 1,\n",
    "    '> 2 Years': 2\n",
    "}\n",
    "\n",
    "vehicle_damage_map = {\n",
    "    'No': 0,\n",
    "    'Yes': 1\n",
    "}"
   ]
  },
  {
   "cell_type": "code",
   "execution_count": 56,
   "id": "ae7321d5-05b6-44d4-acc0-a710cfef09a6",
   "metadata": {},
   "outputs": [],
   "source": [
    "train = pl_encoder(train)"
   ]
  },
  {
   "cell_type": "markdown",
   "id": "ea027281-75b8-4c8c-a3ce-99d8be10b5c0",
   "metadata": {
    "jp-MarkdownHeadingCollapsed": true
   },
   "source": [
    "## Weights:"
   ]
  },
  {
   "cell_type": "code",
   "execution_count": 57,
   "id": "b5defbfc-0397-4437-8cf6-e43b7da8938b",
   "metadata": {},
   "outputs": [],
   "source": [
    "age = []\n",
    "for i in range(20, 86):\n",
    "    middle = train.filter(pl.col('Age') == i)\n",
    "    if middle['Response'].value_counts().filter(pl.col('Response') == 1).shape[0] != 0:\n",
    "        age.append(middle['Response'].value_counts().filter(pl.col('Response') == 1)['count'][0] / middle.shape[0])\n",
    "        \n",
    "    else:\n",
    "        age.append(0)\n",
    "\n",
    "vintage = []\n",
    "for i in range(10, 300):\n",
    "    middle = train.filter(pl.col('Vintage') == i)\n",
    "    if middle['Response'].value_counts().filter(pl.col('Response') == 1).shape[0] != 0:\n",
    "        vintage.append(middle['Response'].value_counts().filter(pl.col('Response') == 1)['count'][0] / middle.shape[0])\n",
    "        \n",
    "    else:\n",
    "        vintage.append(0)\n",
    "\n",
    "psc_values = train['Policy_Sales_Channel'].value_counts()['Policy_Sales_Channel'].to_pandas().sort_values().tolist()\n",
    "channel = []\n",
    "for i in psc_values:\n",
    "    middle = train.filter(pl.col('Policy_Sales_Channel') == i)\n",
    "    if middle['Response'].value_counts().filter(pl.col('Response') == 1).shape[0] != 0:\n",
    "        channel.append(middle['Response'].value_counts().filter(pl.col('Response') == 1)['count'][0] / middle.shape[0])\n",
    "        \n",
    "    else:\n",
    "        channel.append(0)"
   ]
  },
  {
   "cell_type": "code",
   "execution_count": 58,
   "id": "ed032191-509b-461d-9478-c13088a3bd85",
   "metadata": {},
   "outputs": [],
   "source": [
    "train = train.with_columns([\n",
    "    pl.when(pl.col('Vehicle_Damage') == 1)\n",
    "      .then(0.2405)\n",
    "      .otherwise(0.0041)\n",
    "      .alias('vdamage_proba')\n",
    "])\n",
    "\n",
    "train = train.with_columns([\n",
    "    pl.when(pl.col('Previously_Insured') == 0)\n",
    "      .then(0.2284)\n",
    "      .otherwise(0.0006)\n",
    "      .alias('pinsured_proba')\n",
    "])\n",
    "\n",
    "train = train.with_columns([\n",
    "    pl.when(pl.col('Vehicle_Age') == 0)\n",
    "      .then(0.0414)\n",
    "      .when(pl.col('Vehicle_Age') == 1)\n",
    "      .then(0.1777)\n",
    "      .otherwise(0.299)\n",
    "      .alias('vage_proba')\n",
    "])\n",
    "\n",
    "train = train.with_columns([\n",
    "    pl.when(pl.col('Driving_License') == 0)\n",
    "      .then(0.0551)\n",
    "      .otherwise(0.1231)\n",
    "      .alias('dlicence_proba')  \n",
    "])\n",
    "\n",
    "train = train.with_columns([\n",
    "    pl.lit(None).alias('age_proba'),\n",
    "    pl.lit(None).alias('vintage_proba'),\n",
    "    pl.lit(None).alias('psc_proba'),\n",
    "])\n",
    "\n",
    "for i in range(20, 86):\n",
    "    train = train.with_columns(\n",
    "        pl.when(pl.col('Age') == i)\n",
    "          .then(age[i-20])\n",
    "          .otherwise(pl.col('age_proba'))\n",
    "          .alias('age_proba')\n",
    "    )\n",
    "\n",
    "for i in range(10, 300):\n",
    "    train = train.with_columns(\n",
    "        pl.when(pl.col('Vintage') == i)\n",
    "          .then(vintage[i-20])\n",
    "          .otherwise(pl.col('vintage_proba'))\n",
    "          .alias('vintage_proba')\n",
    "    )\n",
    "\n",
    "train = train.with_columns([\n",
    "    pl.when(pl.col('Gender') == 0)\n",
    "      .then(0.1032)\n",
    "      .otherwise(0.1396)\n",
    "      .alias('gender_proba')\n",
    "])\n",
    "\n",
    "k = 0\n",
    "for i in psc_values:\n",
    "    train = train.with_columns(\n",
    "        pl.when(pl.col('Policy_Sales_Channel') == i)\n",
    "          .then(channel[k])\n",
    "\n",
    "        \n",
    "          .when(pl.col('Policy_Sales_Channel') == 144)\n",
    "          .then(channel[136])\n",
    "          .when(pl.col('Policy_Sales_Channel') == 149)\n",
    "          .then(channel[140])\n",
    "          \n",
    "        \n",
    "          .otherwise(pl.col('psc_proba'))\n",
    "          .alias('psc_proba')\n",
    "    )\n",
    "    k += 1"
   ]
  },
  {
   "cell_type": "code",
   "execution_count": 59,
   "id": "c0298f73-e31c-42bc-8579-c7024e666c0e",
   "metadata": {},
   "outputs": [],
   "source": [
    "train = train.with_columns([\n",
    "    (3.19 * ((pl.col('psc_proba') * pl.col('gender_proba') * pl.col('vintage_proba') * pl.col('vdamage_proba') * pl.col('pinsured_proba') * pl.col('vage_proba') * pl.col('age_proba') * pl.col('dlicence_proba') * 10e16)**(1/8))).alias('weight')\n",
    "])"
   ]
  },
  {
   "cell_type": "code",
   "execution_count": 60,
   "id": "91b6aa37-1c02-42f2-a222-39c9316ab609",
   "metadata": {},
   "outputs": [
    {
     "data": {
      "text/html": [
       "<div><style>\n",
       ".dataframe > thead > tr,\n",
       ".dataframe > tbody > tr {\n",
       "  text-align: right;\n",
       "  white-space: pre-wrap;\n",
       "}\n",
       "</style>\n",
       "<small>shape: (11_504_798, 8)</small><table border=\"1\" class=\"dataframe\"><thead><tr><th>vdamage_proba</th><th>pinsured_proba</th><th>vage_proba</th><th>age_proba</th><th>dlicence_proba</th><th>vintage_proba</th><th>weight</th><th>Response</th></tr><tr><td>f64</td><td>f64</td><td>f64</td><td>f64</td><td>f64</td><td>f64</td><td>f64</td><td>i64</td></tr></thead><tbody><tr><td>0.2405</td><td>0.2284</td><td>0.1777</td><td>0.031871</td><td>0.1231</td><td>0.102365</td><td>57.097478</td><td>0</td></tr><tr><td>0.2405</td><td>0.2284</td><td>0.299</td><td>0.220596</td><td>0.1231</td><td>0.099191</td><td>78.041165</td><td>1</td></tr><tr><td>0.0041</td><td>0.0006</td><td>0.0414</td><td>0.031249</td><td>0.1231</td><td>0.190378</td><td>11.013231</td><td>0</td></tr><tr><td>0.2405</td><td>0.2284</td><td>0.1777</td><td>0.225718</td><td>0.1231</td><td>0.09108</td><td>69.749962</td><td>0</td></tr><tr><td>0.0041</td><td>0.0006</td><td>0.1777</td><td>0.229487</td><td>0.1231</td><td>0.079272</td><td>15.19425</td><td>0</td></tr><tr><td>&hellip;</td><td>&hellip;</td><td>&hellip;</td><td>&hellip;</td><td>&hellip;</td><td>&hellip;</td><td>&hellip;</td><td>&hellip;</td></tr><tr><td>0.2405</td><td>0.2284</td><td>0.1777</td><td>0.217931</td><td>0.1231</td><td>0.248087</td><td>81.880863</td><td>0</td></tr><tr><td>0.2405</td><td>0.2284</td><td>0.0414</td><td>0.032568</td><td>0.1231</td><td>0.123129</td><td>36.65328</td><td>1</td></tr><tr><td>0.0041</td><td>0.0006</td><td>0.0414</td><td>0.104322</td><td>0.1231</td><td>0.123332</td><td>12.128032</td><td>0</td></tr><tr><td>0.2405</td><td>0.2284</td><td>0.1777</td><td>0.188136</td><td>0.1231</td><td>0.154837</td><td>72.980975</td><td>1</td></tr><tr><td>0.0041</td><td>0.0006</td><td>0.0414</td><td>0.031249</td><td>0.1231</td><td>0.123332</td><td>10.832979</td><td>0</td></tr></tbody></table></div>"
      ],
      "text/plain": [
       "shape: (11_504_798, 8)\n",
       "┌────────────┬────────────┬────────────┬───────────┬────────────┬───────────┬───────────┬──────────┐\n",
       "│ vdamage_pr ┆ pinsured_p ┆ vage_proba ┆ age_proba ┆ dlicence_p ┆ vintage_p ┆ weight    ┆ Response │\n",
       "│ oba        ┆ roba       ┆ ---        ┆ ---       ┆ roba       ┆ roba      ┆ ---       ┆ ---      │\n",
       "│ ---        ┆ ---        ┆ f64        ┆ f64       ┆ ---        ┆ ---       ┆ f64       ┆ i64      │\n",
       "│ f64        ┆ f64        ┆            ┆           ┆ f64        ┆ f64       ┆           ┆          │\n",
       "╞════════════╪════════════╪════════════╪═══════════╪════════════╪═══════════╪═══════════╪══════════╡\n",
       "│ 0.2405     ┆ 0.2284     ┆ 0.1777     ┆ 0.031871  ┆ 0.1231     ┆ 0.102365  ┆ 57.097478 ┆ 0        │\n",
       "│ 0.2405     ┆ 0.2284     ┆ 0.299      ┆ 0.220596  ┆ 0.1231     ┆ 0.099191  ┆ 78.041165 ┆ 1        │\n",
       "│ 0.0041     ┆ 0.0006     ┆ 0.0414     ┆ 0.031249  ┆ 0.1231     ┆ 0.190378  ┆ 11.013231 ┆ 0        │\n",
       "│ 0.2405     ┆ 0.2284     ┆ 0.1777     ┆ 0.225718  ┆ 0.1231     ┆ 0.09108   ┆ 69.749962 ┆ 0        │\n",
       "│ 0.0041     ┆ 0.0006     ┆ 0.1777     ┆ 0.229487  ┆ 0.1231     ┆ 0.079272  ┆ 15.19425  ┆ 0        │\n",
       "│ …          ┆ …          ┆ …          ┆ …         ┆ …          ┆ …         ┆ …         ┆ …        │\n",
       "│ 0.2405     ┆ 0.2284     ┆ 0.1777     ┆ 0.217931  ┆ 0.1231     ┆ 0.248087  ┆ 81.880863 ┆ 0        │\n",
       "│ 0.2405     ┆ 0.2284     ┆ 0.0414     ┆ 0.032568  ┆ 0.1231     ┆ 0.123129  ┆ 36.65328  ┆ 1        │\n",
       "│ 0.0041     ┆ 0.0006     ┆ 0.0414     ┆ 0.104322  ┆ 0.1231     ┆ 0.123332  ┆ 12.128032 ┆ 0        │\n",
       "│ 0.2405     ┆ 0.2284     ┆ 0.1777     ┆ 0.188136  ┆ 0.1231     ┆ 0.154837  ┆ 72.980975 ┆ 1        │\n",
       "│ 0.0041     ┆ 0.0006     ┆ 0.0414     ┆ 0.031249  ┆ 0.1231     ┆ 0.123332  ┆ 10.832979 ┆ 0        │\n",
       "└────────────┴────────────┴────────────┴───────────┴────────────┴───────────┴───────────┴──────────┘"
      ]
     },
     "execution_count": 60,
     "metadata": {},
     "output_type": "execute_result"
    }
   ],
   "source": [
    "train[['vdamage_proba', 'pinsured_proba', 'vage_proba', 'age_proba', 'dlicence_proba', 'vintage_proba', 'weight', 'Response']]"
   ]
  },
  {
   "cell_type": "code",
   "execution_count": 61,
   "id": "209525a6-9710-4df3-b298-c3c01ed306bd",
   "metadata": {},
   "outputs": [],
   "source": [
    "weights = train['weight'].to_pandas().values"
   ]
  },
  {
   "cell_type": "markdown",
   "id": "9271bdff-757d-4749-8935-857e93020657",
   "metadata": {
    "jp-MarkdownHeadingCollapsed": true
   },
   "source": [
    "## New Feature:"
   ]
  },
  {
   "cell_type": "code",
   "execution_count": 62,
   "id": "dd162bcd-ebd1-4307-b1ab-4eca271f50d5",
   "metadata": {},
   "outputs": [],
   "source": [
    "train = train.with_columns([\n",
    "    (pl.col('Previously_Insured') * (1 - pl.col('Vehicle_Damage'))).alias('pinsuredxvdamage1'),\n",
    "    (pl.col('Vehicle_Damage') * (1 - pl.col('Previously_Insured'))).alias('pinsuredxvdamage2')\n",
    "])"
   ]
  },
  {
   "cell_type": "markdown",
   "id": "7b997b5f-df91-4d82-817f-c87900d76440",
   "metadata": {
    "jp-MarkdownHeadingCollapsed": true
   },
   "source": [
    "## EDA:"
   ]
  },
  {
   "cell_type": "code",
   "execution_count": 27,
   "id": "83bdcefe-332c-49ae-b73a-8bf723a81ded",
   "metadata": {},
   "outputs": [
    {
     "data": {
      "text/html": [
       "<div><style>\n",
       ".dataframe > thead > tr,\n",
       ".dataframe > tbody > tr {\n",
       "  text-align: right;\n",
       "  white-space: pre-wrap;\n",
       "}\n",
       "</style>\n",
       "<small>shape: (11_504_798, 20)</small><table border=\"1\" class=\"dataframe\"><thead><tr><th>id</th><th>Gender</th><th>Age</th><th>Driving_License</th><th>Region_Code</th><th>Previously_Insured</th><th>Vehicle_Age</th><th>Vehicle_Damage</th><th>Annual_Premium</th><th>Policy_Sales_Channel</th><th>Vintage</th><th>Response</th><th>vdamage_proba</th><th>pinsured_proba</th><th>vage_proba</th><th>age_proba</th><th>dlicence_proba</th><th>vintage_proba</th><th>gender_proba</th><th>weight</th></tr><tr><td>i32</td><td>i8</td><td>i8</td><td>i8</td><td>f32</td><td>i8</td><td>i8</td><td>i8</td><td>f32</td><td>f32</td><td>i16</td><td>i64</td><td>f64</td><td>f64</td><td>f64</td><td>f64</td><td>f64</td><td>f64</td><td>f64</td><td>f64</td></tr></thead><tbody><tr><td>0</td><td>1</td><td>21</td><td>1</td><td>35.0</td><td>0</td><td>1</td><td>1</td><td>65101.0</td><td>124.0</td><td>187</td><td>0</td><td>24.05</td><td>22.84</td><td>17.77</td><td>3.187101</td><td>12.31</td><td>10.236454</td><td>13.96</td><td>5.4725e7</td></tr><tr><td>1</td><td>1</td><td>43</td><td>1</td><td>28.0</td><td>0</td><td>2</td><td>1</td><td>58911.0</td><td>26.0</td><td>288</td><td>1</td><td>24.05</td><td>22.84</td><td>29.9</td><td>22.059585</td><td>12.31</td><td>9.919121</td><td>13.96</td><td>6.1758e8</td></tr><tr><td>2</td><td>0</td><td>25</td><td>1</td><td>14.0</td><td>1</td><td>0</td><td>0</td><td>38043.0</td><td>152.0</td><td>254</td><td>0</td><td>0.41</td><td>0.06</td><td>4.14</td><td>3.124857</td><td>12.31</td><td>19.037847</td><td>10.32</td><td>769.699546</td></tr><tr><td>3</td><td>0</td><td>35</td><td>1</td><td>1.0</td><td>0</td><td>1</td><td>1</td><td>2630.0</td><td>156.0</td><td>76</td><td>0</td><td>24.05</td><td>22.84</td><td>17.77</td><td>22.571795</td><td>12.31</td><td>9.108028</td><td>10.32</td><td>2.5493e8</td></tr><tr><td>4</td><td>0</td><td>36</td><td>1</td><td>15.0</td><td>1</td><td>1</td><td>0</td><td>31951.0</td><td>152.0</td><td>294</td><td>0</td><td>0.41</td><td>0.06</td><td>17.77</td><td>22.948659</td><td>12.31</td><td>7.927203</td><td>10.32</td><td>10102.702437</td></tr><tr><td>&hellip;</td><td>&hellip;</td><td>&hellip;</td><td>&hellip;</td><td>&hellip;</td><td>&hellip;</td><td>&hellip;</td><td>&hellip;</td><td>&hellip;</td><td>&hellip;</td><td>&hellip;</td><td>&hellip;</td><td>&hellip;</td><td>&hellip;</td><td>&hellip;</td><td>&hellip;</td><td>&hellip;</td><td>&hellip;</td><td>&hellip;</td><td>&hellip;</td></tr><tr><td>11504793</td><td>1</td><td>48</td><td>1</td><td>6.0</td><td>0</td><td>1</td><td>1</td><td>27412.0</td><td>26.0</td><td>218</td><td>0</td><td>24.05</td><td>22.84</td><td>17.77</td><td>21.793098</td><td>12.31</td><td>24.808737</td><td>13.96</td><td>9.0691e8</td></tr><tr><td>11504794</td><td>0</td><td>26</td><td>1</td><td>36.0</td><td>0</td><td>0</td><td>1</td><td>29509.0</td><td>152.0</td><td>115</td><td>1</td><td>24.05</td><td>22.84</td><td>4.14</td><td>3.256837</td><td>12.31</td><td>12.312915</td><td>10.32</td><td>1.1585e7</td></tr><tr><td>11504795</td><td>0</td><td>29</td><td>1</td><td>32.0</td><td>1</td><td>0</td><td>0</td><td>2630.0</td><td>152.0</td><td>189</td><td>0</td><td>0.41</td><td>0.06</td><td>4.14</td><td>10.432186</td><td>12.31</td><td>12.333247</td><td>10.32</td><td>1664.661524</td></tr><tr><td>11504796</td><td>0</td><td>51</td><td>1</td><td>28.0</td><td>0</td><td>1</td><td>1</td><td>48443.0</td><td>26.0</td><td>274</td><td>1</td><td>24.05</td><td>22.84</td><td>17.77</td><td>18.813608</td><td>12.31</td><td>15.483718</td><td>10.32</td><td>3.6123e8</td></tr><tr><td>11504797</td><td>1</td><td>25</td><td>1</td><td>28.0</td><td>1</td><td>0</td><td>0</td><td>32855.0</td><td>152.0</td><td>189</td><td>0</td><td>0.41</td><td>0.06</td><td>4.14</td><td>3.124857</td><td>12.31</td><td>12.333247</td><td>13.96</td><td>674.507149</td></tr></tbody></table></div>"
      ],
      "text/plain": [
       "shape: (11_504_798, 20)\n",
       "┌──────────┬────────┬─────┬─────────────┬───┬─────────────┬─────────────┬─────────────┬────────────┐\n",
       "│ id       ┆ Gender ┆ Age ┆ Driving_Lic ┆ … ┆ dlicence_pr ┆ vintage_pro ┆ gender_prob ┆ weight     │\n",
       "│ ---      ┆ ---    ┆ --- ┆ ense        ┆   ┆ oba         ┆ ba          ┆ a           ┆ ---        │\n",
       "│ i32      ┆ i8     ┆ i8  ┆ ---         ┆   ┆ ---         ┆ ---         ┆ ---         ┆ f64        │\n",
       "│          ┆        ┆     ┆ i8          ┆   ┆ f64         ┆ f64         ┆ f64         ┆            │\n",
       "╞══════════╪════════╪═════╪═════════════╪═══╪═════════════╪═════════════╪═════════════╪════════════╡\n",
       "│ 0        ┆ 1      ┆ 21  ┆ 1           ┆ … ┆ 12.31       ┆ 10.236454   ┆ 13.96       ┆ 5.4725e7   │\n",
       "│ 1        ┆ 1      ┆ 43  ┆ 1           ┆ … ┆ 12.31       ┆ 9.919121    ┆ 13.96       ┆ 6.1758e8   │\n",
       "│ 2        ┆ 0      ┆ 25  ┆ 1           ┆ … ┆ 12.31       ┆ 19.037847   ┆ 10.32       ┆ 769.699546 │\n",
       "│ 3        ┆ 0      ┆ 35  ┆ 1           ┆ … ┆ 12.31       ┆ 9.108028    ┆ 10.32       ┆ 2.5493e8   │\n",
       "│ 4        ┆ 0      ┆ 36  ┆ 1           ┆ … ┆ 12.31       ┆ 7.927203    ┆ 10.32       ┆ 10102.7024 │\n",
       "│          ┆        ┆     ┆             ┆   ┆             ┆             ┆             ┆ 37         │\n",
       "│ …        ┆ …      ┆ …   ┆ …           ┆ … ┆ …           ┆ …           ┆ …           ┆ …          │\n",
       "│ 11504793 ┆ 1      ┆ 48  ┆ 1           ┆ … ┆ 12.31       ┆ 24.808737   ┆ 13.96       ┆ 9.0691e8   │\n",
       "│ 11504794 ┆ 0      ┆ 26  ┆ 1           ┆ … ┆ 12.31       ┆ 12.312915   ┆ 10.32       ┆ 1.1585e7   │\n",
       "│ 11504795 ┆ 0      ┆ 29  ┆ 1           ┆ … ┆ 12.31       ┆ 12.333247   ┆ 10.32       ┆ 1664.66152 │\n",
       "│          ┆        ┆     ┆             ┆   ┆             ┆             ┆             ┆ 4          │\n",
       "│ 11504796 ┆ 0      ┆ 51  ┆ 1           ┆ … ┆ 12.31       ┆ 15.483718   ┆ 10.32       ┆ 3.6123e8   │\n",
       "│ 11504797 ┆ 1      ┆ 25  ┆ 1           ┆ … ┆ 12.31       ┆ 12.333247   ┆ 13.96       ┆ 674.507149 │\n",
       "└──────────┴────────┴─────┴─────────────┴───┴─────────────┴─────────────┴─────────────┴────────────┘"
      ]
     },
     "execution_count": 27,
     "metadata": {},
     "output_type": "execute_result"
    }
   ],
   "source": [
    "train"
   ]
  },
  {
   "cell_type": "code",
   "execution_count": 28,
   "id": "cfb3db60-fadc-4e67-b58e-a08f95724286",
   "metadata": {},
   "outputs": [
    {
     "data": {
      "text/html": [
       "<div><style>\n",
       ".dataframe > thead > tr,\n",
       ".dataframe > tbody > tr {\n",
       "  text-align: right;\n",
       "  white-space: pre-wrap;\n",
       "}\n",
       "</style>\n",
       "<small>shape: (9, 21)</small><table border=\"1\" class=\"dataframe\"><thead><tr><th>statistic</th><th>id</th><th>Gender</th><th>Age</th><th>Driving_License</th><th>Region_Code</th><th>Previously_Insured</th><th>Vehicle_Age</th><th>Vehicle_Damage</th><th>Annual_Premium</th><th>Policy_Sales_Channel</th><th>Vintage</th><th>Response</th><th>vdamage_proba</th><th>pinsured_proba</th><th>vage_proba</th><th>age_proba</th><th>dlicence_proba</th><th>vintage_proba</th><th>gender_proba</th><th>weight</th></tr><tr><td>str</td><td>f64</td><td>f64</td><td>f64</td><td>f64</td><td>f64</td><td>f64</td><td>f64</td><td>f64</td><td>f64</td><td>f64</td><td>f64</td><td>f64</td><td>f64</td><td>f64</td><td>f64</td><td>f64</td><td>f64</td><td>f64</td><td>f64</td><td>f64</td></tr></thead><tbody><tr><td>&quot;count&quot;</td><td>1.1504798e7</td><td>1.1504798e7</td><td>1.1504798e7</td><td>1.1504798e7</td><td>1.1504798e7</td><td>1.1504798e7</td><td>1.1504798e7</td><td>1.1504798e7</td><td>1.1504798e7</td><td>1.1504798e7</td><td>1.1504798e7</td><td>1.1504798e7</td><td>1.1504798e7</td><td>1.1504798e7</td><td>1.1504798e7</td><td>1.1504798e7</td><td>1.1504798e7</td><td>1.1504798e7</td><td>1.1504798e7</td><td>1.1504798e7</td></tr><tr><td>&quot;null_count&quot;</td><td>0.0</td><td>0.0</td><td>0.0</td><td>0.0</td><td>0.0</td><td>0.0</td><td>0.0</td><td>0.0</td><td>0.0</td><td>0.0</td><td>0.0</td><td>0.0</td><td>0.0</td><td>0.0</td><td>0.0</td><td>0.0</td><td>0.0</td><td>0.0</td><td>0.0</td><td>0.0</td></tr><tr><td>&quot;mean&quot;</td><td>5752398.5</td><td>0.541351</td><td>38.383563</td><td>0.998022</td><td>26.41869</td><td>0.462997</td><td>0.603107</td><td>0.50268</td><td>30461.371094</td><td>112.425446</td><td>163.897744</td><td>0.122997</td><td>12.293349</td><td>12.292938</td><td>12.298034</td><td>12.299729</td><td>12.296549</td><td>12.577088</td><td>12.290518</td><td>1.3862e8</td></tr><tr><td>&quot;std&quot;</td><td>3.3211e6</td><td>0.498287</td><td>14.993459</td><td>0.044431</td><td>12.99159</td><td>0.498629</td><td>0.567856</td><td>0.499993</td><td>16454.746094</td><td>54.035709</td><td>79.979531</td><td>0.328434</td><td>11.819831</td><td>11.358766</td><td>7.590931</td><td>8.112794</td><td>0.302132</td><td>5.382196</td><td>1.813765</td><td>2.2094e8</td></tr><tr><td>&quot;min&quot;</td><td>0.0</td><td>0.0</td><td>20.0</td><td>0.0</td><td>0.0</td><td>0.0</td><td>0.0</td><td>0.0</td><td>2630.0</td><td>1.0</td><td>10.0</td><td>0.0</td><td>0.41</td><td>0.06</td><td>4.14</td><td>0.0</td><td>5.51</td><td>4.244211</td><td>10.32</td><td>0.0</td></tr><tr><td>&quot;25%&quot;</td><td>2.876199e6</td><td>0.0</td><td>24.0</td><td>1.0</td><td>15.0</td><td>0.0</td><td>0.0</td><td>0.0</td><td>25277.0</td><td>29.0</td><td>99.0</td><td>0.0</td><td>0.41</td><td>0.06</td><td>4.14</td><td>3.295344</td><td>12.31</td><td>8.728667</td><td>10.32</td><td>1392.780805</td></tr><tr><td>&quot;50%&quot;</td><td>5.752399e6</td><td>1.0</td><td>36.0</td><td>1.0</td><td>28.0</td><td>0.0</td><td>1.0</td><td>1.0</td><td>31824.0</td><td>151.0</td><td>166.0</td><td>0.0</td><td>24.05</td><td>22.84</td><td>17.77</td><td>12.630527</td><td>12.31</td><td>11.350068</td><td>13.96</td><td>3.8185e6</td></tr><tr><td>&quot;75%&quot;</td><td>8.628598e6</td><td>1.0</td><td>49.0</td><td>1.0</td><td>35.0</td><td>1.0</td><td>1.0</td><td>1.0</td><td>39451.0</td><td>152.0</td><td>232.0</td><td>0.0</td><td>24.05</td><td>22.84</td><td>17.77</td><td>21.476518</td><td>12.31</td><td>15.304902</td><td>13.96</td><td>2.5100e8</td></tr><tr><td>&quot;max&quot;</td><td>1.1504797e7</td><td>1.0</td><td>85.0</td><td>1.0</td><td>52.0</td><td>1.0</td><td>2.0</td><td>1.0</td><td>540165.0</td><td>163.0</td><td>299.0</td><td>1.0</td><td>24.05</td><td>22.84</td><td>29.9</td><td>23.327508</td><td>12.31</td><td>32.005606</td><td>13.96</td><td>2.1073e9</td></tr></tbody></table></div>"
      ],
      "text/plain": [
       "shape: (9, 21)\n",
       "┌───────────┬───────────┬───────────┬───────────┬───┬───────────┬───────────┬───────────┬──────────┐\n",
       "│ statistic ┆ id        ┆ Gender    ┆ Age       ┆ … ┆ dlicence_ ┆ vintage_p ┆ gender_pr ┆ weight   │\n",
       "│ ---       ┆ ---       ┆ ---       ┆ ---       ┆   ┆ proba     ┆ roba      ┆ oba       ┆ ---      │\n",
       "│ str       ┆ f64       ┆ f64       ┆ f64       ┆   ┆ ---       ┆ ---       ┆ ---       ┆ f64      │\n",
       "│           ┆           ┆           ┆           ┆   ┆ f64       ┆ f64       ┆ f64       ┆          │\n",
       "╞═══════════╪═══════════╪═══════════╪═══════════╪═══╪═══════════╪═══════════╪═══════════╪══════════╡\n",
       "│ count     ┆ 1.1504798 ┆ 1.1504798 ┆ 1.1504798 ┆ … ┆ 1.1504798 ┆ 1.1504798 ┆ 1.1504798 ┆ 1.150479 │\n",
       "│           ┆ e7        ┆ e7        ┆ e7        ┆   ┆ e7        ┆ e7        ┆ e7        ┆ 8e7      │\n",
       "│ null_coun ┆ 0.0       ┆ 0.0       ┆ 0.0       ┆ … ┆ 0.0       ┆ 0.0       ┆ 0.0       ┆ 0.0      │\n",
       "│ t         ┆           ┆           ┆           ┆   ┆           ┆           ┆           ┆          │\n",
       "│ mean      ┆ 5752398.5 ┆ 0.541351  ┆ 38.383563 ┆ … ┆ 12.296549 ┆ 12.577088 ┆ 12.290518 ┆ 1.3862e8 │\n",
       "│ std       ┆ 3.3211e6  ┆ 0.498287  ┆ 14.993459 ┆ … ┆ 0.302132  ┆ 5.382196  ┆ 1.813765  ┆ 2.2094e8 │\n",
       "│ min       ┆ 0.0       ┆ 0.0       ┆ 20.0      ┆ … ┆ 5.51      ┆ 4.244211  ┆ 10.32     ┆ 0.0      │\n",
       "│ 25%       ┆ 2.876199e ┆ 0.0       ┆ 24.0      ┆ … ┆ 12.31     ┆ 8.728667  ┆ 10.32     ┆ 1392.780 │\n",
       "│           ┆ 6         ┆           ┆           ┆   ┆           ┆           ┆           ┆ 805      │\n",
       "│ 50%       ┆ 5.752399e ┆ 1.0       ┆ 36.0      ┆ … ┆ 12.31     ┆ 11.350068 ┆ 13.96     ┆ 3.8185e6 │\n",
       "│           ┆ 6         ┆           ┆           ┆   ┆           ┆           ┆           ┆          │\n",
       "│ 75%       ┆ 8.628598e ┆ 1.0       ┆ 49.0      ┆ … ┆ 12.31     ┆ 15.304902 ┆ 13.96     ┆ 2.5100e8 │\n",
       "│           ┆ 6         ┆           ┆           ┆   ┆           ┆           ┆           ┆          │\n",
       "│ max       ┆ 1.1504797 ┆ 1.0       ┆ 85.0      ┆ … ┆ 12.31     ┆ 32.005606 ┆ 13.96     ┆ 2.1073e9 │\n",
       "│           ┆ e7        ┆           ┆           ┆   ┆           ┆           ┆           ┆          │\n",
       "└───────────┴───────────┴───────────┴───────────┴───┴───────────┴───────────┴───────────┴──────────┘"
      ]
     },
     "execution_count": 28,
     "metadata": {},
     "output_type": "execute_result"
    }
   ],
   "source": [
    "train.describe()"
   ]
  },
  {
   "cell_type": "code",
   "execution_count": 29,
   "id": "0d922f50-4dd7-40b8-b984-159b40821d6b",
   "metadata": {},
   "outputs": [
    {
     "data": {
      "text/plain": [
       "0"
      ]
     },
     "execution_count": 29,
     "metadata": {},
     "output_type": "execute_result"
    }
   ],
   "source": [
    "max(train.null_count().to_pandas().iloc[0, 1:].tolist())"
   ]
  },
  {
   "cell_type": "code",
   "execution_count": 30,
   "id": "4e2547c1-af02-4af9-b424-92e400c1f54e",
   "metadata": {},
   "outputs": [
    {
     "data": {
      "text/html": [
       "<div><style>\n",
       ".dataframe > thead > tr,\n",
       ".dataframe > tbody > tr {\n",
       "  text-align: right;\n",
       "  white-space: pre-wrap;\n",
       "}\n",
       "</style>\n",
       "<small>shape: (1, 20)</small><table border=\"1\" class=\"dataframe\"><thead><tr><th>id</th><th>Gender</th><th>Age</th><th>Driving_License</th><th>Region_Code</th><th>Previously_Insured</th><th>Vehicle_Age</th><th>Vehicle_Damage</th><th>Annual_Premium</th><th>Policy_Sales_Channel</th><th>Vintage</th><th>Response</th><th>vdamage_proba</th><th>pinsured_proba</th><th>vage_proba</th><th>age_proba</th><th>dlicence_proba</th><th>vintage_proba</th><th>gender_proba</th><th>weight</th></tr><tr><td>u32</td><td>u32</td><td>u32</td><td>u32</td><td>u32</td><td>u32</td><td>u32</td><td>u32</td><td>u32</td><td>u32</td><td>u32</td><td>u32</td><td>u32</td><td>u32</td><td>u32</td><td>u32</td><td>u32</td><td>u32</td><td>u32</td><td>u32</td></tr></thead><tbody><tr><td>11504798</td><td>2</td><td>66</td><td>2</td><td>54</td><td>2</td><td>3</td><td>2</td><td>51728</td><td>152</td><td>290</td><td>2</td><td>2</td><td>2</td><td>3</td><td>65</td><td>2</td><td>290</td><td>2</td><td>232380</td></tr></tbody></table></div>"
      ],
      "text/plain": [
       "shape: (1, 20)\n",
       "┌──────────┬────────┬─────┬──────────────┬───┬──────────────┬──────────────┬──────────────┬────────┐\n",
       "│ id       ┆ Gender ┆ Age ┆ Driving_Lice ┆ … ┆ dlicence_pro ┆ vintage_prob ┆ gender_proba ┆ weight │\n",
       "│ ---      ┆ ---    ┆ --- ┆ nse          ┆   ┆ ba           ┆ a            ┆ ---          ┆ ---    │\n",
       "│ u32      ┆ u32    ┆ u32 ┆ ---          ┆   ┆ ---          ┆ ---          ┆ u32          ┆ u32    │\n",
       "│          ┆        ┆     ┆ u32          ┆   ┆ u32          ┆ u32          ┆              ┆        │\n",
       "╞══════════╪════════╪═════╪══════════════╪═══╪══════════════╪══════════════╪══════════════╪════════╡\n",
       "│ 11504798 ┆ 2      ┆ 66  ┆ 2            ┆ … ┆ 2            ┆ 290          ┆ 2            ┆ 232380 │\n",
       "└──────────┴────────┴─────┴──────────────┴───┴──────────────┴──────────────┴──────────────┴────────┘"
      ]
     },
     "execution_count": 30,
     "metadata": {},
     "output_type": "execute_result"
    }
   ],
   "source": [
    "train.select(pl.col('*').n_unique())"
   ]
  },
  {
   "cell_type": "markdown",
   "id": "ab852a1e-0139-4415-adb0-9355c6571625",
   "metadata": {},
   "source": [
    "### Univariate Analysis:"
   ]
  },
  {
   "cell_type": "code",
   "execution_count": 53,
   "id": "799f1bfb-c30a-4ce9-b2cf-5faeaf03adcb",
   "metadata": {},
   "outputs": [
    {
     "data": {
      "text/html": [
       "<div><style>\n",
       ".dataframe > thead > tr,\n",
       ".dataframe > tbody > tr {\n",
       "  text-align: right;\n",
       "  white-space: pre-wrap;\n",
       "}\n",
       "</style>\n",
       "<small>shape: (2, 2)</small><table border=\"1\" class=\"dataframe\"><thead><tr><th>Response</th><th>count</th></tr><tr><td>i64</td><td>u32</td></tr></thead><tbody><tr><td>1</td><td>1415059</td></tr><tr><td>0</td><td>10089739</td></tr></tbody></table></div>"
      ],
      "text/plain": [
       "shape: (2, 2)\n",
       "┌──────────┬──────────┐\n",
       "│ Response ┆ count    │\n",
       "│ ---      ┆ ---      │\n",
       "│ i64      ┆ u32      │\n",
       "╞══════════╪══════════╡\n",
       "│ 1        ┆ 1415059  │\n",
       "│ 0        ┆ 10089739 │\n",
       "└──────────┴──────────┘"
      ]
     },
     "execution_count": 53,
     "metadata": {},
     "output_type": "execute_result"
    }
   ],
   "source": [
    "train['Response'].value_counts()"
   ]
  },
  {
   "cell_type": "code",
   "execution_count": null,
   "id": "e3f7ad4c-b40d-488a-ad89-8f79b32e59bc",
   "metadata": {},
   "outputs": [],
   "source": [
    "response_data = train['Response'].value_counts()['count']\n",
    "plt.figure(figsize=(6,6))\n",
    "fig, ax = plt.subplots()\n",
    "ax.pie(response_data, labels = [0,1])\n",
    "ax.set_title('Checking Imbalance in Training Data Or Response')"
   ]
  },
  {
   "cell_type": "code",
   "execution_count": null,
   "id": "1d122337-53be-4a36-b296-337a52141f3a",
   "metadata": {},
   "outputs": [],
   "source": [
    "dl = train.filter(pl.col('Driving_License') == 0)"
   ]
  },
  {
   "cell_type": "code",
   "execution_count": null,
   "id": "2b6bd1b6-e4e4-4028-9417-af13f817cad3",
   "metadata": {},
   "outputs": [],
   "source": [
    "dl.shape"
   ]
  },
  {
   "cell_type": "code",
   "execution_count": null,
   "id": "b6e6f4d2-0773-4fcc-9135-03760c02896c",
   "metadata": {},
   "outputs": [],
   "source": [
    "dl['Response'].value_counts().filter(pl.col('Response') == 0)['count'][0] / dl.shape[0]"
   ]
  },
  {
   "cell_type": "code",
   "execution_count": null,
   "id": "296ab083-64db-447c-a58c-4b0f120652c3",
   "metadata": {},
   "outputs": [],
   "source": [
    "dl['Response'].value_counts()"
   ]
  },
  {
   "cell_type": "code",
   "execution_count": null,
   "id": "a7fadc58-fb11-419a-9a7d-bdaa38dd1303",
   "metadata": {},
   "outputs": [],
   "source": [
    "response_data = dl['Response'].value_counts()['count']\n",
    "plt.figure(figsize=(6,6))\n",
    "fig, ax = plt.subplots()\n",
    "ax.pie(response_data, labels = [0,1])\n",
    "ax.set_title('Checking Imbalance in Training Data Or Response')"
   ]
  },
  {
   "cell_type": "code",
   "execution_count": null,
   "id": "9cccfd6f-5ec9-464d-af59-cf0ef2eeb813",
   "metadata": {},
   "outputs": [],
   "source": [
    "accepted = train.filter(pl.col('Response') == 1)"
   ]
  },
  {
   "cell_type": "code",
   "execution_count": null,
   "id": "13f67409-439e-43b1-a90b-d8a474b3dc0c",
   "metadata": {},
   "outputs": [],
   "source": [
    "accepted.describe()"
   ]
  },
  {
   "cell_type": "code",
   "execution_count": null,
   "id": "44196896-ecd3-4ea4-99d1-97f2a48b98fb",
   "metadata": {},
   "outputs": [],
   "source": [
    "rejected = train.filter(pl.col('Response') == 0)"
   ]
  },
  {
   "cell_type": "code",
   "execution_count": null,
   "id": "c69e8e6f-cc7e-4862-b27c-8a598f6ec6d0",
   "metadata": {},
   "outputs": [],
   "source": [
    "rejected.describe()"
   ]
  },
  {
   "cell_type": "code",
   "execution_count": null,
   "id": "c4de27be-5575-4180-8800-487afd3cae0f",
   "metadata": {},
   "outputs": [],
   "source": [
    "plot_date_components_histogram_seaborn(train, 'Age', 66)"
   ]
  },
  {
   "cell_type": "code",
   "execution_count": null,
   "id": "0464a097-559a-4b60-85ec-51db3652e220",
   "metadata": {},
   "outputs": [],
   "source": [
    "plot_date_components_histogram_seaborn(train, 'Previously_Insured', 2)"
   ]
  },
  {
   "cell_type": "code",
   "execution_count": null,
   "id": "e6fd5f03-1958-488c-a338-8ceac0d28b2b",
   "metadata": {},
   "outputs": [],
   "source": [
    "plot_date_components_histogram_seaborn(train, 'Vehicle_Age', 3)"
   ]
  },
  {
   "cell_type": "code",
   "execution_count": null,
   "id": "34b7ccff-a437-43bd-a1ba-70eb25166103",
   "metadata": {},
   "outputs": [],
   "source": [
    "plot_date_components_histogram_seaborn(train, 'Vintage', 50)"
   ]
  },
  {
   "cell_type": "code",
   "execution_count": null,
   "id": "73c91f0f-f8c6-4ca5-a2de-095b376d1d91",
   "metadata": {},
   "outputs": [],
   "source": [
    "plot_date_components_histogram_seaborn(train, 'Policy_Sales_Channel', 152)"
   ]
  },
  {
   "cell_type": "code",
   "execution_count": null,
   "id": "87c6521e-5f09-4662-98d1-e6ecf8101d0a",
   "metadata": {},
   "outputs": [],
   "source": [
    "plot_date_components_histogram_seaborn(train, 'Region_Code', 54)"
   ]
  },
  {
   "cell_type": "code",
   "execution_count": null,
   "id": "97389a7f-2eb8-4eee-97e8-3c62d3733ca6",
   "metadata": {},
   "outputs": [],
   "source": [
    "plot_date_components_histogram_seaborn(train, 'Vehicle_Damage', 2)"
   ]
  },
  {
   "cell_type": "code",
   "execution_count": null,
   "id": "b6b420a4-6c13-4664-8e3a-c140e63e059e",
   "metadata": {},
   "outputs": [],
   "source": [
    "plot_date_components_histogram_seaborn(train, 'Annual_Premium', 50)"
   ]
  },
  {
   "cell_type": "code",
   "execution_count": null,
   "id": "b55b4de7-63e9-4da8-9200-f26c2b4f8c8f",
   "metadata": {},
   "outputs": [],
   "source": [
    "has_dl = train.filter(pl.col('Driving_License') == 1)\n",
    "display(has_dl['Response'].value_counts())\n",
    "has_dl['Response'].value_counts().filter(pl.col('Response') == 1)['count'][0] / has_dl.shape[0]"
   ]
  },
  {
   "cell_type": "code",
   "execution_count": null,
   "id": "337fff7e-7ddf-4e2e-80d8-9483e052b5d8",
   "metadata": {},
   "outputs": [],
   "source": [
    "no_dl = train.filter(pl.col('Driving_License') == 0)\n",
    "display(no_dl['Response'].value_counts())\n",
    "no_dl['Response'].value_counts().filter(pl.col('Response') == 1)['count'][0] / no_dl.shape[0]"
   ]
  },
  {
   "cell_type": "code",
   "execution_count": null,
   "id": "282065eb-1fa5-4c97-b92f-2cb0371164d4",
   "metadata": {},
   "outputs": [],
   "source": [
    "insured = train.filter(pl.col('Previously_Insured') == 1)\n",
    "display(insured['Response'].value_counts())\n",
    "insured['Response'].value_counts().filter(pl.col('Response') == 1)['count'][0] / insured.shape[0]"
   ]
  },
  {
   "cell_type": "code",
   "execution_count": null,
   "id": "15ee36f1-41f0-4e79-8c67-e991fb106176",
   "metadata": {},
   "outputs": [],
   "source": [
    "not_insured = train.filter(pl.col('Previously_Insured') == 0)\n",
    "display(not_insured['Response'].value_counts())\n",
    "not_insured['Response'].value_counts().filter(pl.col('Response') == 1)['count'][0] / not_insured.shape[0]"
   ]
  },
  {
   "cell_type": "code",
   "execution_count": null,
   "id": "e4824862-5021-4080-89d1-2ce14984e5fe",
   "metadata": {},
   "outputs": [],
   "source": [
    "old = train.filter(pl.col('Age') >= 70)\n",
    "display(old['Response'].value_counts())\n",
    "old['Response'].value_counts().filter(pl.col('Response') == 1)['count'][0] / old.shape[0]"
   ]
  },
  {
   "cell_type": "code",
   "execution_count": null,
   "id": "06d743fc-8b10-4ea0-bd7b-fca9a3396b09",
   "metadata": {},
   "outputs": [],
   "source": [
    "middle['Response'].value_counts().filter(pl.col('Response') == 1).shape[0]"
   ]
  },
  {
   "cell_type": "code",
   "execution_count": null,
   "id": "897158ed-0072-4aa5-9eea-8ee816f7d36e",
   "metadata": {},
   "outputs": [],
   "source": [
    "middle['Response'].value_counts() "
   ]
  },
  {
   "cell_type": "code",
   "execution_count": null,
   "id": "ede99cca-a10b-4b81-8eaa-2462fc7bf240",
   "metadata": {
    "scrolled": true
   },
   "outputs": [],
   "source": [
    "age = []\n",
    "for i in range(20, 86):\n",
    "    middle = train.filter(pl.col('Age') == i)\n",
    "    if middle['Response'].value_counts().filter(pl.col('Response') == 1).shape[0] != 0:\n",
    "        age.append(middle['Response'].value_counts().filter(pl.col('Response') == 1)['count'][0] / middle.shape[0])\n",
    "        \n",
    "    else:\n",
    "        age.append(0)"
   ]
  },
  {
   "cell_type": "code",
   "execution_count": null,
   "id": "b4ddcd11-c99a-4350-a857-8373e9fb4874",
   "metadata": {},
   "outputs": [],
   "source": [
    "gc.collect()"
   ]
  },
  {
   "cell_type": "code",
   "execution_count": null,
   "id": "e1e9f945-9621-456c-a6fc-af245567ee19",
   "metadata": {},
   "outputs": [],
   "source": [
    "young = train.filter(pl.col('Age') < 30)\n",
    "display(young['Response'].value_counts())\n",
    "young['Response'].value_counts().filter(pl.col('Response') == 1)['count'][0] / young.shape[0]"
   ]
  },
  {
   "cell_type": "code",
   "execution_count": null,
   "id": "43fa537f-7748-4734-9731-8fdb2c4cf4ae",
   "metadata": {},
   "outputs": [],
   "source": [
    "brand_new = train.filter(pl.col('Vehicle_Age') == 0)\n",
    "display(brand_new['Response'].value_counts())\n",
    "brand_new['Response'].value_counts().filter(pl.col('Response') == 1)['count'][0] / brand_new.shape[0]"
   ]
  },
  {
   "cell_type": "code",
   "execution_count": null,
   "id": "3c8fe1c4-b45d-4da1-bc2a-6cd756ec6a22",
   "metadata": {},
   "outputs": [],
   "source": [
    "new = train.filter(pl.col('Vehicle_Age') == 1)\n",
    "display(new['Response'].value_counts())\n",
    "new['Response'].value_counts().filter(pl.col('Response') == 1)['count'][0] / new.shape[0]"
   ]
  },
  {
   "cell_type": "code",
   "execution_count": null,
   "id": "663d295e-7693-4203-95c2-4fe99d1dc058",
   "metadata": {},
   "outputs": [],
   "source": [
    "used = train.filter(pl.col('Vehicle_Age') == 2)\n",
    "display(used['Response'].value_counts())\n",
    "used['Response'].value_counts().filter(pl.col('Response') == 1)['count'][0] / used.shape[0]"
   ]
  },
  {
   "cell_type": "code",
   "execution_count": 126,
   "id": "5bd9570c-4960-4075-a04f-6342f14c0c3f",
   "metadata": {},
   "outputs": [
    {
     "data": {
      "text/html": [
       "<div><style>\n",
       ".dataframe > thead > tr,\n",
       ".dataframe > tbody > tr {\n",
       "  text-align: right;\n",
       "  white-space: pre-wrap;\n",
       "}\n",
       "</style>\n",
       "<small>shape: (2, 2)</small><table border=\"1\" class=\"dataframe\"><thead><tr><th>Response</th><th>count</th></tr><tr><td>i64</td><td>u32</td></tr></thead><tbody><tr><td>0</td><td>4731603</td></tr><tr><td>1</td><td>545061</td></tr></tbody></table></div>"
      ],
      "text/plain": [
       "shape: (2, 2)\n",
       "┌──────────┬─────────┐\n",
       "│ Response ┆ count   │\n",
       "│ ---      ┆ ---     │\n",
       "│ i64      ┆ u32     │\n",
       "╞══════════╪═════════╡\n",
       "│ 0        ┆ 4731603 │\n",
       "│ 1        ┆ 545061  │\n",
       "└──────────┴─────────┘"
      ]
     },
     "metadata": {},
     "output_type": "display_data"
    },
    {
     "data": {
      "text/plain": [
       "0.10329651461605287"
      ]
     },
     "execution_count": 126,
     "metadata": {},
     "output_type": "execute_result"
    }
   ],
   "source": [
    "f = train.filter(pl.col('Gender') == 0)\n",
    "display(f['Response'].value_counts())\n",
    "f['Response'].value_counts().filter(pl.col('Response') == 1)['count'][0] / f.shape[0]"
   ]
  },
  {
   "cell_type": "code",
   "execution_count": 127,
   "id": "c2007ffe-2267-4865-b9b9-6b6985a35c38",
   "metadata": {},
   "outputs": [
    {
     "data": {
      "text/html": [
       "<div><style>\n",
       ".dataframe > thead > tr,\n",
       ".dataframe > tbody > tr {\n",
       "  text-align: right;\n",
       "  white-space: pre-wrap;\n",
       "}\n",
       "</style>\n",
       "<small>shape: (2, 2)</small><table border=\"1\" class=\"dataframe\"><thead><tr><th>Response</th><th>count</th></tr><tr><td>i64</td><td>u32</td></tr></thead><tbody><tr><td>0</td><td>5358136</td></tr><tr><td>1</td><td>869998</td></tr></tbody></table></div>"
      ],
      "text/plain": [
       "shape: (2, 2)\n",
       "┌──────────┬─────────┐\n",
       "│ Response ┆ count   │\n",
       "│ ---      ┆ ---     │\n",
       "│ i64      ┆ u32     │\n",
       "╞══════════╪═════════╡\n",
       "│ 0        ┆ 5358136 │\n",
       "│ 1        ┆ 869998  │\n",
       "└──────────┴─────────┘"
      ]
     },
     "metadata": {},
     "output_type": "display_data"
    },
    {
     "data": {
      "text/plain": [
       "0.13968838820744706"
      ]
     },
     "execution_count": 127,
     "metadata": {},
     "output_type": "execute_result"
    }
   ],
   "source": [
    "m = train.filter(pl.col('Gender') == 1)\n",
    "display(m['Response'].value_counts())\n",
    "m['Response'].value_counts().filter(pl.col('Response') == 1)['count'][0] / m.shape[0]"
   ]
  },
  {
   "cell_type": "code",
   "execution_count": null,
   "id": "54e7be09-0f02-4749-a837-20c4d23cb6ca",
   "metadata": {},
   "outputs": [],
   "source": [
    "damaged = train.filter(pl.col('Vehicle_Damage') == 1)\n",
    "display(damaged['Response'].value_counts())\n",
    "damaged['Response'].value_counts().filter(pl.col('Response') == 1)['count'][0] / damaged.shape[0]"
   ]
  },
  {
   "cell_type": "code",
   "execution_count": null,
   "id": "ed375fee-361a-44f7-8424-c4060db02be9",
   "metadata": {},
   "outputs": [],
   "source": [
    "not_damaged = train.filter(pl.col('Vehicle_Damage') == 0)\n",
    "display(not_damaged['Response'].value_counts())\n",
    "not_damaged['Response'].value_counts().filter(pl.col('Response') == 1)['count'][0] / not_damaged.shape[0]"
   ]
  },
  {
   "cell_type": "code",
   "execution_count": null,
   "id": "66ae9e48-01ea-476b-8afc-332b15837ab1",
   "metadata": {},
   "outputs": [],
   "source": [
    "high = train.filter(pl.col('Annual_Premium') >= 100000)\n",
    "display(high['Response'].value_counts())\n",
    "high['Response'].value_counts().filter(pl.col('Response') == 1)['count'][0] / high.shape[0]"
   ]
  },
  {
   "cell_type": "code",
   "execution_count": null,
   "id": "f7be279f-7bd5-489a-846c-0a67df096ccf",
   "metadata": {},
   "outputs": [],
   "source": [
    "low = train.filter(pl.col('Annual_Premium') < 100000)\n",
    "display(low['Response'].value_counts())\n",
    "low['Response'].value_counts().filter(pl.col('Response') == 1)['count'][0] / low.shape[0]"
   ]
  },
  {
   "cell_type": "code",
   "execution_count": 31,
   "id": "b93596f8-5e4c-4306-adde-cae46ddc1f8b",
   "metadata": {},
   "outputs": [],
   "source": [
    "c = train[:1000000].to_pandas()"
   ]
  },
  {
   "cell_type": "code",
   "execution_count": 32,
   "id": "68082a06-a2f0-4fb7-87d5-cbdc0f995d92",
   "metadata": {},
   "outputs": [
    {
     "data": {
      "image/png": "[encoded data removed]",
      "text/plain": [
       "<Figure size 1000x800 with 2 Axes>"
      ]
     },
     "metadata": {},
     "output_type": "display_data"
    },
    {
     "name": "stdout",
     "output_type": "stream",
     "text": [
      "Elapsed time [m]:  0.1243\n"
     ]
    }
   ],
   "source": [
    "t1 = time.time()\n",
    "# Pearson method for this one since air temperature has linear relationship with heating tendency\n",
    "corr = pd.DataFrame(c.corrwith(c['Response'], method='spearman'), columns=['Correlation'])\n",
    "\n",
    "plt.figure(figsize=(10, 8))\n",
    "sns.heatmap(corr, annot=True, cmap='coolwarm', fmt='.4f')\n",
    "plt.title('Correlation Matrix Heatmap')\n",
    "plt.show()\n",
    "t2 = time.time()\n",
    "print('Elapsed time [m]: ', np.round((t2-t1)/60,4))"
   ]
  },
  {
   "cell_type": "code",
   "execution_count": null,
   "id": "7c1966c8-7dac-4401-a006-1b6c8e41bf5f",
   "metadata": {
    "scrolled": true
   },
   "outputs": [],
   "source": [
    "plot_feature_importanc(train.drop('vdamage_proba', 'pinsured_proba', 'vage_proba', 'dlicence_proba'))"
   ]
  },
  {
   "cell_type": "code",
   "execution_count": 123,
   "id": "9f618c40-1514-4b6a-8a00-38f824f5ddf3",
   "metadata": {},
   "outputs": [
    {
     "data": {
      "text/plain": [
       "['Gender',\n",
       " 'Age',\n",
       " 'Driving_License',\n",
       " 'Region_Code',\n",
       " 'Previously_Insured',\n",
       " 'Vehicle_Age',\n",
       " 'Vehicle_Damage',\n",
       " 'Annual_Premium',\n",
       " 'Policy_Sales_Channel',\n",
       " 'Vintage',\n",
       " 'vdamage_proba',\n",
       " 'pinsured_proba',\n",
       " 'vage_proba',\n",
       " 'age_proba',\n",
       " 'dlicence_proba',\n",
       " 'weight',\n",
       " 'vintage_proba']"
      ]
     },
     "execution_count": 123,
     "metadata": {},
     "output_type": "execute_result"
    }
   ],
   "source": [
    "features = train.drop('id', 'Response').columns\n",
    "features"
   ]
  },
  {
   "cell_type": "code",
   "execution_count": 36,
   "id": "278f5623-53b5-45e3-b92f-c2f7f973267f",
   "metadata": {},
   "outputs": [
    {
     "ename": "NameError",
     "evalue": "name 't2' is not defined",
     "output_type": "error",
     "traceback": [
      "\u001b[0;31m---------------------------------------------------------------------------\u001b[0m",
      "\u001b[0;31mNameError\u001b[0m                                 Traceback (most recent call last)",
      "Cell \u001b[0;32mIn[36], line 9\u001b[0m\n\u001b[1;32m      7\u001b[0m mi_scores \u001b[38;5;241m=\u001b[39m mi_scores\u001b[38;5;241m.\u001b[39msort_values(ascending\u001b[38;5;241m=\u001b[39m\u001b[38;5;28;01mFalse\u001b[39;00m)\n\u001b[1;32m      8\u001b[0m t1 \u001b[38;5;241m=\u001b[39m time\u001b[38;5;241m.\u001b[39mtime()\n\u001b[0;32m----> 9\u001b[0m \u001b[38;5;28mprint\u001b[39m(\u001b[38;5;124m'\u001b[39m\u001b[38;5;124mElapsed time [m]: \u001b[39m\u001b[38;5;124m'\u001b[39m, np\u001b[38;5;241m.\u001b[39mround((\u001b[43mt2\u001b[49m\u001b[38;5;241m-\u001b[39mt1)\u001b[38;5;241m/\u001b[39m\u001b[38;5;241m60\u001b[39m,\u001b[38;5;241m4\u001b[39m))\n\u001b[1;32m     10\u001b[0m mi_scores\n",
      "\u001b[0;31mNameError\u001b[0m: name 't2' is not defined"
     ]
    }
   ],
   "source": [
    "t1 = time.time()\n",
    "X_copy = train[:1000000]\n",
    "y_copy = train[:1000000]['Response']\n",
    "\n",
    "mi_scores = mutual_info_classif(X_copy, y_copy, discrete_features=X_copy.dtypes==int, n_neighbors=5, random_state=42)\n",
    "mi_scores = pd.Series(mi_scores, index=train.columns)\n",
    "mi_scores = mi_scores.sort_values(ascending=False)\n",
    "t2 = time.time()\n",
    "print('Elapsed time [m]: ', np.round((t2-t1)/60,4))\n",
    "mi_scores"
   ]
  },
  {
   "cell_type": "code",
   "execution_count": 37,
   "id": "8da547bd-db1f-4ab7-b3ba-254d4a27e5b2",
   "metadata": {},
   "outputs": [
    {
     "data": {
      "text/plain": [
       "Response                0.377001\n",
       "Previously_Insured      0.160072\n",
       "pinsuredxvdamage1       0.146964\n",
       "pinsured_proba          0.143362\n",
       "Vehicle_Damage          0.138354\n",
       "pinsuredxvdamage2       0.138005\n",
       "vdamage_proba           0.137195\n",
       "dlicence_proba          0.108772\n",
       "weight                  0.106309\n",
       "Driving_License         0.096781\n",
       "vage_proba              0.077901\n",
       "Gender                  0.076396\n",
       "Policy_Sales_Channel    0.066813\n",
       "psc_proba               0.059542\n",
       "Vehicle_Age             0.058704\n",
       "gender_proba            0.039373\n",
       "Age                     0.035161\n",
       "age_proba               0.034497\n",
       "Annual_Premium          0.031244\n",
       "Region_Code             0.022705\n",
       "Vintage                 0.014226\n",
       "vintage_proba           0.013776\n",
       "id                      0.000014\n",
       "dtype: float64"
      ]
     },
     "execution_count": 37,
     "metadata": {},
     "output_type": "execute_result"
    }
   ],
   "source": [
    "mi_scores"
   ]
  },
  {
   "cell_type": "markdown",
   "id": "1a9fa0a4-18a1-42f8-8a6a-7c6ca92b5db4",
   "metadata": {
    "jp-MarkdownHeadingCollapsed": true
   },
   "source": [
    "## Normalizing The Data:"
   ]
  },
  {
   "cell_type": "code",
   "execution_count": 63,
   "id": "9aa0eded-d5f3-4e3b-af7f-9516a042fe3d",
   "metadata": {},
   "outputs": [],
   "source": [
    "scaler = RobustScaler()\n",
    "\n",
    "# Fit the scaler to the data\n",
    "scaler.fit(train[:1000000][num_cols])\n",
    "\n",
    "# Transform the data\n",
    "train[:1000000][num_cols] = scaler.transform(train[:1000000][num_cols])"
   ]
  },
  {
   "cell_type": "code",
   "execution_count": 64,
   "id": "148f14e2-6432-4fe6-9feb-44f671a49633",
   "metadata": {},
   "outputs": [
    {
     "data": {
      "text/plain": [
       "4"
      ]
     },
     "execution_count": 64,
     "metadata": {},
     "output_type": "execute_result"
    }
   ],
   "source": [
    "gc.collect()"
   ]
  },
  {
   "cell_type": "markdown",
   "id": "f6e59c6d-61ab-4b22-9c2c-94adfc9a1b03",
   "metadata": {},
   "source": [
    "# Train"
   ]
  },
  {
   "cell_type": "code",
   "execution_count": 65,
   "id": "b5518237-7c83-4c8b-892d-f2e4e8dcf020",
   "metadata": {},
   "outputs": [],
   "source": [
    "features = train.drop('id', 'Response').columns\n",
    "mandatory = ['age_proba', 'Vehicle_Damage', 'psc_proba', 'Previously_Insured', 'dlicence_proba',\n",
    "             'Annual_Premium', 'Policy_Sales_Channel', 'Age', 'vintage_proba', 'pinsuredxvdamage1']\n",
    "remaining = [f for f in features if f not in mandatory]\n",
    "all_combinations = feature_combinations_with_mandatory(mandatory, remaining, (10-len(mandatory)))"
   ]
  },
  {
   "cell_type": "code",
   "execution_count": 66,
   "id": "6482d854-b28f-418d-9c13-26ee9b863f01",
   "metadata": {},
   "outputs": [
    {
     "data": {
      "text/plain": [
       "1"
      ]
     },
     "execution_count": 66,
     "metadata": {},
     "output_type": "execute_result"
    }
   ],
   "source": [
    "len(all_combinations)"
   ]
  },
  {
   "cell_type": "code",
   "execution_count": 67,
   "id": "257eb148-de00-43cd-bae3-938fb1f4e966",
   "metadata": {},
   "outputs": [],
   "source": [
    "a = train[:1000000].to_pandas()\n",
    "weight = weights[:1000000]\n",
    "\n",
    "#X = a.drop(columns=['id', 'Response'], axis=1).values\n",
    "#y = a['Response'].values"
   ]
  },
  {
   "cell_type": "code",
   "execution_count": 51,
   "id": "11cde64d-4ec7-4ffe-a9be-887c1715c1ec",
   "metadata": {
    "scrolled": true
   },
   "outputs": [
    {
     "name": "stdout",
     "output_type": "stream",
     "text": [
      "Warning: Maximum number of iterations has been exceeded.\n",
      "         Current function value: 0.266489\n",
      "         Iterations: 35\n",
      "Warning: Maximum number of iterations has been exceeded.\n",
      "         Current function value: 0.266259\n",
      "         Iterations: 35\n",
      "Warning: Maximum number of iterations has been exceeded.\n",
      "         Current function value: 0.266860\n",
      "         Iterations: 35\n",
      "Warning: Maximum number of iterations has been exceeded.\n",
      "         Current function value: 0.266701\n",
      "         Iterations: 35\n",
      "Warning: Maximum number of iterations has been exceeded.\n",
      "         Current function value: 0.266649\n",
      "         Iterations: 35\n",
      "Cross-validation scores: [0.8505534421200706, 0.8501540154508854, 0.853135328696196, 0.8516322005714645, 0.8513094105190662]\n",
      "Mean cross-validation score: 0.8513568794715367\n",
      "Standard deviation of cross-validation scores: 0.0010327952443842585\n",
      "Combo: ['age_proba', 'Vehicle_Damage', 'psc_proba', 'Previously_Insured', 'Annual_Premium', 'Policy_Sales_Channel', 'Age', 'vintage_proba', 'pinsuredxvdamage1', 'pinsuredxvdamage2']\n"
     ]
    }
   ],
   "source": [
    "for combo in all_combinations:\n",
    "    try:\n",
    "        X = a[combo].values  #.drop(columns=['id', 'Response'], axis=1).values\n",
    "        y = a['Response'].values\n",
    "        \n",
    "        cross_validate(X, y, weight, 5)\n",
    "        print(f\"Combo: {combo}\")\n",
    "    except LinAlgError as e:\n",
    "        print(f\"LinAlgError for combo {combo}: {e}\")\n",
    "    except Exception as e:\n",
    "        print(f\"Error for combo {combo}: {e}\")\n",
    "    gc.collect()"
   ]
  },
  {
   "cell_type": "code",
   "execution_count": 68,
   "id": "dc454ed9-6c63-448e-b7aa-30bfc9436365",
   "metadata": {},
   "outputs": [],
   "source": [
    "X = a[mandatory].values  #.drop(columns=['id', 'Response'], axis=1).values\n",
    "y = a['Response'].values"
   ]
  },
  {
   "cell_type": "code",
   "execution_count": 69,
   "id": "a572a2f8-9297-4c90-889a-fb9813ede091",
   "metadata": {},
   "outputs": [
    {
     "name": "stdout",
     "output_type": "stream",
     "text": [
      "Optimization terminated successfully.\n",
      "         Current function value: 0.266535\n",
      "         Iterations 12\n"
     ]
    }
   ],
   "source": [
    "model = train_logit_model(X, y)"
   ]
  },
  {
   "cell_type": "code",
   "execution_count": 70,
   "id": "3d286b92-3621-4d38-9140-2e5a396d7a51",
   "metadata": {},
   "outputs": [],
   "source": [
    "#X = train[mandatory].to_pandas().values  #.drop(columns=['id', 'Response'], axis=1).values\n",
    "#y = train['Response'].to_pandas().values"
   ]
  },
  {
   "cell_type": "code",
   "execution_count": 71,
   "id": "9a496922-9673-4a23-bdf0-a27dc4b6880a",
   "metadata": {},
   "outputs": [
    {
     "name": "stdout",
     "output_type": "stream",
     "text": [
      "0.8526545700194788\n"
     ]
    }
   ],
   "source": [
    "X_test = sm.add_constant(X)\n",
    "y_pred = model.predict(X_test)\n",
    "print(roc_auc_score(y, y_pred))"
   ]
  },
  {
   "cell_type": "code",
   "execution_count": 72,
   "id": "d69f7f6b-787b-4ae1-9953-4ac67b1dfff7",
   "metadata": {},
   "outputs": [
    {
     "data": {
      "text/plain": [
       "0.9364902255174543"
      ]
     },
     "execution_count": 72,
     "metadata": {},
     "output_type": "execute_result"
    }
   ],
   "source": [
    "max(y_pred)"
   ]
  },
  {
   "cell_type": "code",
   "execution_count": 73,
   "id": "a0a74418-8762-4c35-9031-d2e5f14533b9",
   "metadata": {},
   "outputs": [
    {
     "data": {
      "text/plain": [
       "0"
      ]
     },
     "execution_count": 73,
     "metadata": {},
     "output_type": "execute_result"
    }
   ],
   "source": [
    "gc.collect()"
   ]
  },
  {
   "cell_type": "markdown",
   "id": "72d5f669-cb61-4014-8837-8f135e60016e",
   "metadata": {
    "jp-MarkdownHeadingCollapsed": true
   },
   "source": [
    "# Some More EDA"
   ]
  },
  {
   "cell_type": "code",
   "execution_count": 74,
   "id": "db0de161-b936-4f36-a7fa-ccc9cb4cedc2",
   "metadata": {},
   "outputs": [],
   "source": [
    "residuals = y - y_pred\n",
    "ids = []\n",
    "for i, val in enumerate(residuals):\n",
    "    if np.abs(val) >= 0.95:\n",
    "        ids.append(i)\n",
    "        #print(i, val)"
   ]
  },
  {
   "cell_type": "code",
   "execution_count": 75,
   "id": "cf722ffb-f6e9-4e13-8436-e7b1ab148eb5",
   "metadata": {},
   "outputs": [
    {
     "data": {
      "text/html": [
       "<div><style>\n",
       ".dataframe > thead > tr,\n",
       ".dataframe > tbody > tr {\n",
       "  text-align: right;\n",
       "  white-space: pre-wrap;\n",
       "}\n",
       "</style>\n",
       "<small>shape: (1_427, 23)</small><table border=\"1\" class=\"dataframe\"><thead><tr><th>id</th><th>Gender</th><th>Age</th><th>Driving_License</th><th>Region_Code</th><th>Previously_Insured</th><th>Vehicle_Age</th><th>Vehicle_Damage</th><th>Annual_Premium</th><th>Policy_Sales_Channel</th><th>Vintage</th><th>Response</th><th>vdamage_proba</th><th>pinsured_proba</th><th>vage_proba</th><th>dlicence_proba</th><th>age_proba</th><th>vintage_proba</th><th>psc_proba</th><th>gender_proba</th><th>weight</th><th>pinsuredxvdamage1</th><th>pinsuredxvdamage2</th></tr><tr><td>i32</td><td>i8</td><td>i8</td><td>i8</td><td>f32</td><td>i8</td><td>i8</td><td>i8</td><td>f32</td><td>f32</td><td>i16</td><td>i64</td><td>f64</td><td>f64</td><td>f64</td><td>f64</td><td>f64</td><td>f64</td><td>f64</td><td>f64</td><td>f64</td><td>i8</td><td>i8</td></tr></thead><tbody><tr><td>825</td><td>1</td><td>53</td><td>1</td><td>23.0</td><td>0</td><td>1</td><td>0</td><td>25765.0</td><td>154.0</td><td>277</td><td>1</td><td>0.0041</td><td>0.2284</td><td>0.1777</td><td>0.1231</td><td>0.173556</td><td>0.092999</td><td>0.249854</td><td>0.1396</td><td>43.304198</td><td>0</td><td>0</td></tr><tr><td>1828</td><td>1</td><td>36</td><td>1</td><td>28.0</td><td>1</td><td>1</td><td>1</td><td>2630.0</td><td>154.0</td><td>105</td><td>1</td><td>0.2405</td><td>0.0006</td><td>0.1777</td><td>0.1231</td><td>0.229487</td><td>0.087287</td><td>0.249854</td><td>0.1396</td><td>35.214935</td><td>0</td><td>0</td></tr><tr><td>3130</td><td>1</td><td>42</td><td>1</td><td>28.0</td><td>1</td><td>1</td><td>0</td><td>47326.0</td><td>124.0</td><td>54</td><td>1</td><td>0.0041</td><td>0.0006</td><td>0.1777</td><td>0.1231</td><td>0.209626</td><td>0.224616</td><td>0.192496</td><td>0.1396</td><td>22.799475</td><td>1</td><td>0</td></tr><tr><td>4167</td><td>0</td><td>25</td><td>1</td><td>11.0</td><td>0</td><td>0</td><td>0</td><td>34585.0</td><td>152.0</td><td>257</td><td>1</td><td>0.0041</td><td>0.2284</td><td>0.0414</td><td>0.1231</td><td>0.031249</td><td>0.095003</td><td>0.026222</td><td>0.1032</td><td>21.220124</td><td>0</td><td>0</td></tr><tr><td>4617</td><td>0</td><td>48</td><td>1</td><td>3.0</td><td>0</td><td>0</td><td>0</td><td>2630.0</td><td>1.0</td><td>174</td><td>1</td><td>0.0041</td><td>0.2284</td><td>0.0414</td><td>0.1231</td><td>0.217931</td><td>0.218774</td><td>0.024666</td><td>0.1032</td><td>29.795122</td><td>0</td><td>0</td></tr><tr><td>&hellip;</td><td>&hellip;</td><td>&hellip;</td><td>&hellip;</td><td>&hellip;</td><td>&hellip;</td><td>&hellip;</td><td>&hellip;</td><td>&hellip;</td><td>&hellip;</td><td>&hellip;</td><td>&hellip;</td><td>&hellip;</td><td>&hellip;</td><td>&hellip;</td><td>&hellip;</td><td>&hellip;</td><td>&hellip;</td><td>&hellip;</td><td>&hellip;</td><td>&hellip;</td><td>&hellip;</td><td>&hellip;</td></tr><tr><td>994264</td><td>1</td><td>24</td><td>1</td><td>35.0</td><td>0</td><td>0</td><td>0</td><td>2630.0</td><td>156.0</td><td>110</td><td>1</td><td>0.0041</td><td>0.2284</td><td>0.0414</td><td>0.1231</td><td>0.031142</td><td>0.132468</td><td>0.204927</td><td>0.1396</td><td>29.691034</td><td>0</td><td>0</td></tr><tr><td>995084</td><td>0</td><td>23</td><td>1</td><td>49.0</td><td>0</td><td>0</td><td>0</td><td>2630.0</td><td>152.0</td><td>298</td><td>1</td><td>0.0041</td><td>0.2284</td><td>0.0414</td><td>0.1231</td><td>0.033138</td><td>0.174054</td><td>0.026222</td><td>0.1032</td><td>23.056973</td><td>0</td><td>0</td></tr><tr><td>996570</td><td>1</td><td>63</td><td>1</td><td>30.0</td><td>1</td><td>1</td><td>0</td><td>2630.0</td><td>1.0</td><td>42</td><td>1</td><td>0.0041</td><td>0.0006</td><td>0.1777</td><td>0.1231</td><td>0.114553</td><td>0.139069</td><td>0.024666</td><td>0.1396</td><td>15.401169</td><td>1</td><td>0</td></tr><tr><td>997288</td><td>0</td><td>22</td><td>1</td><td>29.0</td><td>0</td><td>0</td><td>0</td><td>2630.0</td><td>152.0</td><td>75</td><td>1</td><td>0.0041</td><td>0.2284</td><td>0.0414</td><td>0.1231</td><td>0.032953</td><td>0.196183</td><td>0.026222</td><td>0.1032</td><td>23.388209</td><td>0</td><td>0</td></tr><tr><td>999492</td><td>0</td><td>54</td><td>1</td><td>33.0</td><td>0</td><td>0</td><td>0</td><td>2630.0</td><td>1.0</td><td>144</td><td>1</td><td>0.0041</td><td>0.2284</td><td>0.0414</td><td>0.1231</td><td>0.188622</td><td>0.12802</td><td>0.024666</td><td>0.1032</td><td>27.366212</td><td>0</td><td>0</td></tr></tbody></table></div>"
      ],
      "text/plain": [
       "shape: (1_427, 23)\n",
       "┌────────┬────────┬─────┬──────────────┬───┬──────────────┬───────────┬──────────────┬─────────────┐\n",
       "│ id     ┆ Gender ┆ Age ┆ Driving_Lice ┆ … ┆ gender_proba ┆ weight    ┆ pinsuredxvda ┆ pinsuredxvd │\n",
       "│ ---    ┆ ---    ┆ --- ┆ nse          ┆   ┆ ---          ┆ ---       ┆ mage1        ┆ amage2      │\n",
       "│ i32    ┆ i8     ┆ i8  ┆ ---          ┆   ┆ f64          ┆ f64       ┆ ---          ┆ ---         │\n",
       "│        ┆        ┆     ┆ i8           ┆   ┆              ┆           ┆ i8           ┆ i8          │\n",
       "╞════════╪════════╪═════╪══════════════╪═══╪══════════════╪═══════════╪══════════════╪═════════════╡\n",
       "│ 825    ┆ 1      ┆ 53  ┆ 1            ┆ … ┆ 0.1396       ┆ 43.304198 ┆ 0            ┆ 0           │\n",
       "│ 1828   ┆ 1      ┆ 36  ┆ 1            ┆ … ┆ 0.1396       ┆ 35.214935 ┆ 0            ┆ 0           │\n",
       "│ 3130   ┆ 1      ┆ 42  ┆ 1            ┆ … ┆ 0.1396       ┆ 22.799475 ┆ 1            ┆ 0           │\n",
       "│ 4167   ┆ 0      ┆ 25  ┆ 1            ┆ … ┆ 0.1032       ┆ 21.220124 ┆ 0            ┆ 0           │\n",
       "│ 4617   ┆ 0      ┆ 48  ┆ 1            ┆ … ┆ 0.1032       ┆ 29.795122 ┆ 0            ┆ 0           │\n",
       "│ …      ┆ …      ┆ …   ┆ …            ┆ … ┆ …            ┆ …         ┆ …            ┆ …           │\n",
       "│ 994264 ┆ 1      ┆ 24  ┆ 1            ┆ … ┆ 0.1396       ┆ 29.691034 ┆ 0            ┆ 0           │\n",
       "│ 995084 ┆ 0      ┆ 23  ┆ 1            ┆ … ┆ 0.1032       ┆ 23.056973 ┆ 0            ┆ 0           │\n",
       "│ 996570 ┆ 1      ┆ 63  ┆ 1            ┆ … ┆ 0.1396       ┆ 15.401169 ┆ 1            ┆ 0           │\n",
       "│ 997288 ┆ 0      ┆ 22  ┆ 1            ┆ … ┆ 0.1032       ┆ 23.388209 ┆ 0            ┆ 0           │\n",
       "│ 999492 ┆ 0      ┆ 54  ┆ 1            ┆ … ┆ 0.1032       ┆ 27.366212 ┆ 0            ┆ 0           │\n",
       "└────────┴────────┴─────┴──────────────┴───┴──────────────┴───────────┴──────────────┴─────────────┘"
      ]
     },
     "execution_count": 75,
     "metadata": {},
     "output_type": "execute_result"
    }
   ],
   "source": [
    "bad_preds = train.filter(pl.col('id').is_in(ids))\n",
    "bad_preds"
   ]
  },
  {
   "cell_type": "code",
   "execution_count": 86,
   "id": "88dcd375-5847-4099-8653-37eb3b67df8c",
   "metadata": {},
   "outputs": [
    {
     "data": {
      "text/plain": [
       "Text(0.5, 1.0, 'Checking Imbalance in Training Data Or Response')"
      ]
     },
     "execution_count": 86,
     "metadata": {},
     "output_type": "execute_result"
    },
    {
     "data": {
      "text/plain": [
       "<Figure size 600x600 with 0 Axes>"
      ]
     },
     "metadata": {},
     "output_type": "display_data"
    },
    {
     "data": {
      "image/png": "[encoded data removed]",
      "text/plain": [
       "<Figure size 640x480 with 1 Axes>"
      ]
     },
     "metadata": {},
     "output_type": "display_data"
    }
   ],
   "source": [
    "response_data = bad_preds['Response'].value_counts()['count']\n",
    "plt.figure(figsize=(6,6))\n",
    "fig, ax = plt.subplots()\n",
    "ax.pie(response_data, labels = [0,1])\n",
    "ax.set_title('Checking Imbalance in Training Data Or Response')"
   ]
  },
  {
   "cell_type": "code",
   "execution_count": 87,
   "id": "90d880f7-02a6-455e-b2af-5ed7a41d5c1e",
   "metadata": {},
   "outputs": [
    {
     "data": {
      "text/html": [
       "<div><style>\n",
       ".dataframe > thead > tr,\n",
       ".dataframe > tbody > tr {\n",
       "  text-align: right;\n",
       "  white-space: pre-wrap;\n",
       "}\n",
       "</style>\n",
       "<small>shape: (2, 2)</small><table border=\"1\" class=\"dataframe\"><thead><tr><th>Response</th><th>count</th></tr><tr><td>i64</td><td>u32</td></tr></thead><tbody><tr><td>1</td><td>21947</td></tr><tr><td>0</td><td>1</td></tr></tbody></table></div>"
      ],
      "text/plain": [
       "shape: (2, 2)\n",
       "┌──────────┬───────┐\n",
       "│ Response ┆ count │\n",
       "│ ---      ┆ ---   │\n",
       "│ i64      ┆ u32   │\n",
       "╞══════════╪═══════╡\n",
       "│ 1        ┆ 21947 │\n",
       "│ 0        ┆ 1     │\n",
       "└──────────┴───────┘"
      ]
     },
     "execution_count": 87,
     "metadata": {},
     "output_type": "execute_result"
    }
   ],
   "source": [
    "bad_preds['Response'].value_counts()"
   ]
  },
  {
   "cell_type": "code",
   "execution_count": 88,
   "id": "30b56b5d-7b07-4460-9d08-ec591888ab0d",
   "metadata": {},
   "outputs": [
    {
     "data": {
      "text/plain": [
       "Text(0.5, 1.0, 'Checking Imbalance in Training Data Or Response')"
      ]
     },
     "execution_count": 88,
     "metadata": {},
     "output_type": "execute_result"
    },
    {
     "data": {
      "text/plain": [
       "<Figure size 600x600 with 0 Axes>"
      ]
     },
     "metadata": {},
     "output_type": "display_data"
    },
    {
     "data": {
      "image/png": "[encoded data removed]",
      "text/plain": [
       "<Figure size 640x480 with 1 Axes>"
      ]
     },
     "metadata": {},
     "output_type": "display_data"
    }
   ],
   "source": [
    "response_data = bad_preds['Vehicle_Damage'].value_counts()['count']\n",
    "plt.figure(figsize=(6,6))\n",
    "fig, ax = plt.subplots()\n",
    "ax.pie(response_data, labels = [0,1])\n",
    "ax.set_title('Checking Imbalance in Training Data Or Response')"
   ]
  },
  {
   "cell_type": "code",
   "execution_count": 89,
   "id": "7807bf37-1025-45b4-a851-c3beee7157ba",
   "metadata": {},
   "outputs": [
    {
     "data": {
      "text/html": [
       "<div><style>\n",
       ".dataframe > thead > tr,\n",
       ".dataframe > tbody > tr {\n",
       "  text-align: right;\n",
       "  white-space: pre-wrap;\n",
       "}\n",
       "</style>\n",
       "<small>shape: (2, 2)</small><table border=\"1\" class=\"dataframe\"><thead><tr><th>Vehicle_Damage</th><th>count</th></tr><tr><td>i8</td><td>u32</td></tr></thead><tbody><tr><td>1</td><td>19829</td></tr><tr><td>0</td><td>2119</td></tr></tbody></table></div>"
      ],
      "text/plain": [
       "shape: (2, 2)\n",
       "┌────────────────┬───────┐\n",
       "│ Vehicle_Damage ┆ count │\n",
       "│ ---            ┆ ---   │\n",
       "│ i8             ┆ u32   │\n",
       "╞════════════════╪═══════╡\n",
       "│ 1              ┆ 19829 │\n",
       "│ 0              ┆ 2119  │\n",
       "└────────────────┴───────┘"
      ]
     },
     "execution_count": 89,
     "metadata": {},
     "output_type": "execute_result"
    }
   ],
   "source": [
    "bad_preds['Vehicle_Damage'].value_counts()"
   ]
  },
  {
   "cell_type": "code",
   "execution_count": 93,
   "id": "307a8bdb-a6a3-4344-a4c4-5704a5da0992",
   "metadata": {},
   "outputs": [
    {
     "data": {
      "text/plain": [
       "Text(0.5, 1.0, 'Checking Imbalance in Training Data Or Response')"
      ]
     },
     "execution_count": 93,
     "metadata": {},
     "output_type": "execute_result"
    },
    {
     "data": {
      "text/plain": [
       "<Figure size 600x600 with 0 Axes>"
      ]
     },
     "metadata": {},
     "output_type": "display_data"
    },
    {
     "data": {
      "image/png": "[encoded data removed]",
      "text/plain": [
       "<Figure size 640x480 with 1 Axes>"
      ]
     },
     "metadata": {},
     "output_type": "display_data"
    }
   ],
   "source": [
    "response_data = bad_preds['Previously_Insured'].value_counts()['count']\n",
    "plt.figure(figsize=(6,6))\n",
    "fig, ax = plt.subplots()\n",
    "ax.pie(response_data, labels = [0,1])\n",
    "ax.set_title('Checking Imbalance in Training Data Or Response')"
   ]
  },
  {
   "cell_type": "code",
   "execution_count": 92,
   "id": "1f06683f-ff7f-4734-9cd0-d394ae1cbe64",
   "metadata": {},
   "outputs": [
    {
     "data": {
      "text/html": [
       "<div><style>\n",
       ".dataframe > thead > tr,\n",
       ".dataframe > tbody > tr {\n",
       "  text-align: right;\n",
       "  white-space: pre-wrap;\n",
       "}\n",
       "</style>\n",
       "<small>shape: (2, 2)</small><table border=\"1\" class=\"dataframe\"><thead><tr><th>Previously_Insured</th><th>count</th></tr><tr><td>i8</td><td>u32</td></tr></thead><tbody><tr><td>0</td><td>21648</td></tr><tr><td>1</td><td>300</td></tr></tbody></table></div>"
      ],
      "text/plain": [
       "shape: (2, 2)\n",
       "┌────────────────────┬───────┐\n",
       "│ Previously_Insured ┆ count │\n",
       "│ ---                ┆ ---   │\n",
       "│ i8                 ┆ u32   │\n",
       "╞════════════════════╪═══════╡\n",
       "│ 0                  ┆ 21648 │\n",
       "│ 1                  ┆ 300   │\n",
       "└────────────────────┴───────┘"
      ]
     },
     "execution_count": 92,
     "metadata": {},
     "output_type": "execute_result"
    }
   ],
   "source": [
    "bad_preds['Previously_Insured'].value_counts()"
   ]
  },
  {
   "cell_type": "code",
   "execution_count": 85,
   "id": "8f92c795-cf34-4416-8366-8b6938ba4f84",
   "metadata": {},
   "outputs": [
    {
     "data": {
      "text/html": [
       "<div><style>\n",
       ".dataframe > thead > tr,\n",
       ".dataframe > tbody > tr {\n",
       "  text-align: right;\n",
       "  white-space: pre-wrap;\n",
       "}\n",
       "</style>\n",
       "<small>shape: (5_504_102, 23)</small><table border=\"1\" class=\"dataframe\"><thead><tr><th>id</th><th>Gender</th><th>Age</th><th>Driving_License</th><th>Region_Code</th><th>Previously_Insured</th><th>Vehicle_Age</th><th>Vehicle_Damage</th><th>Annual_Premium</th><th>Policy_Sales_Channel</th><th>Vintage</th><th>Response</th><th>vdamage_proba</th><th>pinsured_proba</th><th>vage_proba</th><th>dlicence_proba</th><th>age_proba</th><th>vintage_proba</th><th>psc_proba</th><th>gender_proba</th><th>weight</th><th>pinsuredxvdamage1</th><th>pinsuredxvdamage2</th></tr><tr><td>i32</td><td>i8</td><td>i8</td><td>i8</td><td>f32</td><td>i8</td><td>i8</td><td>i8</td><td>f32</td><td>f32</td><td>i16</td><td>i64</td><td>f64</td><td>f64</td><td>f64</td><td>f64</td><td>f64</td><td>f64</td><td>f64</td><td>f64</td><td>f64</td><td>i8</td><td>i8</td></tr></thead><tbody><tr><td>0</td><td>1</td><td>21</td><td>1</td><td>35.0</td><td>0</td><td>1</td><td>1</td><td>65101.0</td><td>124.0</td><td>187</td><td>0</td><td>0.2405</td><td>0.2284</td><td>0.1777</td><td>0.1231</td><td>0.031871</td><td>0.102365</td><td>0.192496</td><td>0.1396</td><td>57.097478</td><td>0</td><td>1</td></tr><tr><td>1</td><td>1</td><td>43</td><td>1</td><td>28.0</td><td>0</td><td>2</td><td>1</td><td>58911.0</td><td>26.0</td><td>288</td><td>1</td><td>0.2405</td><td>0.2284</td><td>0.299</td><td>0.1231</td><td>0.220596</td><td>0.099191</td><td>0.207763</td><td>0.1396</td><td>78.041165</td><td>0</td><td>1</td></tr><tr><td>3</td><td>0</td><td>35</td><td>1</td><td>1.0</td><td>0</td><td>1</td><td>1</td><td>2630.0</td><td>156.0</td><td>76</td><td>0</td><td>0.2405</td><td>0.2284</td><td>0.1777</td><td>0.1231</td><td>0.225718</td><td>0.09108</td><td>0.204927</td><td>0.1032</td><td>69.749962</td><td>0</td><td>1</td></tr><tr><td>7</td><td>0</td><td>47</td><td>1</td><td>8.0</td><td>0</td><td>1</td><td>1</td><td>40659.0</td><td>26.0</td><td>262</td><td>1</td><td>0.2405</td><td>0.2284</td><td>0.1777</td><td>0.1231</td><td>0.221149</td><td>0.151917</td><td>0.207763</td><td>0.1032</td><td>74.293824</td><td>0</td><td>1</td></tr><tr><td>9</td><td>0</td><td>66</td><td>1</td><td>11.0</td><td>0</td><td>1</td><td>1</td><td>2630.0</td><td>26.0</td><td>125</td><td>0</td><td>0.2405</td><td>0.2284</td><td>0.1777</td><td>0.1231</td><td>0.094869</td><td>0.108706</td><td>0.207763</td><td>0.1032</td><td>64.097157</td><td>0</td><td>1</td></tr><tr><td>&hellip;</td><td>&hellip;</td><td>&hellip;</td><td>&hellip;</td><td>&hellip;</td><td>&hellip;</td><td>&hellip;</td><td>&hellip;</td><td>&hellip;</td><td>&hellip;</td><td>&hellip;</td><td>&hellip;</td><td>&hellip;</td><td>&hellip;</td><td>&hellip;</td><td>&hellip;</td><td>&hellip;</td><td>&hellip;</td><td>&hellip;</td><td>&hellip;</td><td>&hellip;</td><td>&hellip;</td><td>&hellip;</td></tr><tr><td>11504784</td><td>1</td><td>25</td><td>1</td><td>28.0</td><td>0</td><td>0</td><td>1</td><td>48240.0</td><td>153.0</td><td>37</td><td>1</td><td>0.2405</td><td>0.2284</td><td>0.0414</td><td>0.1231</td><td>0.031249</td><td>0.052679</td><td>0.056011</td><td>0.1396</td><td>37.443568</td><td>0</td><td>1</td></tr><tr><td>11504787</td><td>0</td><td>22</td><td>1</td><td>13.0</td><td>0</td><td>0</td><td>1</td><td>31484.0</td><td>152.0</td><td>103</td><td>0</td><td>0.2405</td><td>0.2284</td><td>0.0414</td><td>0.1231</td><td>0.032953</td><td>0.126186</td><td>0.026222</td><td>0.1032</td><td>36.81986</td><td>0</td><td>1</td></tr><tr><td>11504793</td><td>1</td><td>48</td><td>1</td><td>6.0</td><td>0</td><td>1</td><td>1</td><td>27412.0</td><td>26.0</td><td>218</td><td>0</td><td>0.2405</td><td>0.2284</td><td>0.1777</td><td>0.1231</td><td>0.217931</td><td>0.248087</td><td>0.207763</td><td>0.1396</td><td>81.880863</td><td>0</td><td>1</td></tr><tr><td>11504794</td><td>0</td><td>26</td><td>1</td><td>36.0</td><td>0</td><td>0</td><td>1</td><td>29509.0</td><td>152.0</td><td>115</td><td>1</td><td>0.2405</td><td>0.2284</td><td>0.0414</td><td>0.1231</td><td>0.032568</td><td>0.123129</td><td>0.026222</td><td>0.1032</td><td>36.65328</td><td>0</td><td>1</td></tr><tr><td>11504796</td><td>0</td><td>51</td><td>1</td><td>28.0</td><td>0</td><td>1</td><td>1</td><td>48443.0</td><td>26.0</td><td>274</td><td>1</td><td>0.2405</td><td>0.2284</td><td>0.1777</td><td>0.1231</td><td>0.188136</td><td>0.154837</td><td>0.207763</td><td>0.1032</td><td>72.980975</td><td>0</td><td>1</td></tr></tbody></table></div>"
      ],
      "text/plain": [
       "shape: (5_504_102, 23)\n",
       "┌──────────┬────────┬─────┬──────────────┬───┬─────────────┬───────────┬─────────────┬─────────────┐\n",
       "│ id       ┆ Gender ┆ Age ┆ Driving_Lice ┆ … ┆ gender_prob ┆ weight    ┆ pinsuredxvd ┆ pinsuredxvd │\n",
       "│ ---      ┆ ---    ┆ --- ┆ nse          ┆   ┆ a           ┆ ---       ┆ amage1      ┆ amage2      │\n",
       "│ i32      ┆ i8     ┆ i8  ┆ ---          ┆   ┆ ---         ┆ f64       ┆ ---         ┆ ---         │\n",
       "│          ┆        ┆     ┆ i8           ┆   ┆ f64         ┆           ┆ i8          ┆ i8          │\n",
       "╞══════════╪════════╪═════╪══════════════╪═══╪═════════════╪═══════════╪═════════════╪═════════════╡\n",
       "│ 0        ┆ 1      ┆ 21  ┆ 1            ┆ … ┆ 0.1396      ┆ 57.097478 ┆ 0           ┆ 1           │\n",
       "│ 1        ┆ 1      ┆ 43  ┆ 1            ┆ … ┆ 0.1396      ┆ 78.041165 ┆ 0           ┆ 1           │\n",
       "│ 3        ┆ 0      ┆ 35  ┆ 1            ┆ … ┆ 0.1032      ┆ 69.749962 ┆ 0           ┆ 1           │\n",
       "│ 7        ┆ 0      ┆ 47  ┆ 1            ┆ … ┆ 0.1032      ┆ 74.293824 ┆ 0           ┆ 1           │\n",
       "│ 9        ┆ 0      ┆ 66  ┆ 1            ┆ … ┆ 0.1032      ┆ 64.097157 ┆ 0           ┆ 1           │\n",
       "│ …        ┆ …      ┆ …   ┆ …            ┆ … ┆ …           ┆ …         ┆ …           ┆ …           │\n",
       "│ 11504784 ┆ 1      ┆ 25  ┆ 1            ┆ … ┆ 0.1396      ┆ 37.443568 ┆ 0           ┆ 1           │\n",
       "│ 11504787 ┆ 0      ┆ 22  ┆ 1            ┆ … ┆ 0.1032      ┆ 36.81986  ┆ 0           ┆ 1           │\n",
       "│ 11504793 ┆ 1      ┆ 48  ┆ 1            ┆ … ┆ 0.1396      ┆ 81.880863 ┆ 0           ┆ 1           │\n",
       "│ 11504794 ┆ 0      ┆ 26  ┆ 1            ┆ … ┆ 0.1032      ┆ 36.65328  ┆ 0           ┆ 1           │\n",
       "│ 11504796 ┆ 0      ┆ 51  ┆ 1            ┆ … ┆ 0.1032      ┆ 72.980975 ┆ 0           ┆ 1           │\n",
       "└──────────┴────────┴─────┴──────────────┴───┴─────────────┴───────────┴─────────────┴─────────────┘"
      ]
     },
     "execution_count": 85,
     "metadata": {},
     "output_type": "execute_result"
    }
   ],
   "source": [
    "train.filter((pl.col('Previously_Insured') == 0) & (pl.col('Vehicle_Damage') == 1))"
   ]
  },
  {
   "cell_type": "code",
   "execution_count": 66,
   "id": "eef5420a-4b49-49f3-8d74-2f2858ba452a",
   "metadata": {},
   "outputs": [],
   "source": [
    "residuals_series = pl.Series('residual', residuals)\n",
    "b = train[:1000000].with_columns(residuals_series)"
   ]
  },
  {
   "cell_type": "code",
   "execution_count": 87,
   "id": "70ff3796-c872-4d1a-bc12-d904c4402ac6",
   "metadata": {},
   "outputs": [
    {
     "data": {
      "text/html": [
       "<div><style>\n",
       ".dataframe > thead > tr,\n",
       ".dataframe > tbody > tr {\n",
       "  text-align: right;\n",
       "  white-space: pre-wrap;\n",
       "}\n",
       "</style>\n",
       "<small>shape: (9, 25)</small><table border=\"1\" class=\"dataframe\"><thead><tr><th>statistic</th><th>id</th><th>Gender</th><th>Age</th><th>Driving_License</th><th>Region_Code</th><th>Previously_Insured</th><th>Vehicle_Age</th><th>Vehicle_Damage</th><th>Annual_Premium</th><th>Policy_Sales_Channel</th><th>Vintage</th><th>Response</th><th>vdamage_proba</th><th>pinsured_proba</th><th>vage_proba</th><th>dlicence_proba</th><th>age_proba</th><th>vintage_proba</th><th>psc_proba</th><th>gender_proba</th><th>weight</th><th>pinsuredxvdamage1</th><th>pinsuredxvdamage2</th><th>residual</th></tr><tr><td>str</td><td>f64</td><td>f64</td><td>f64</td><td>f64</td><td>f64</td><td>f64</td><td>f64</td><td>f64</td><td>f64</td><td>f64</td><td>f64</td><td>f64</td><td>f64</td><td>f64</td><td>f64</td><td>f64</td><td>f64</td><td>f64</td><td>f64</td><td>f64</td><td>f64</td><td>f64</td><td>f64</td><td>f64</td></tr></thead><tbody><tr><td>&quot;count&quot;</td><td>1e6</td><td>1e6</td><td>1e6</td><td>1e6</td><td>1e6</td><td>1e6</td><td>1e6</td><td>1e6</td><td>1e6</td><td>1e6</td><td>1e6</td><td>1e6</td><td>1e6</td><td>1e6</td><td>1e6</td><td>1e6</td><td>1e6</td><td>1e6</td><td>1e6</td><td>1e6</td><td>1e6</td><td>1e6</td><td>1e6</td><td>1e6</td></tr><tr><td>&quot;null_count&quot;</td><td>0.0</td><td>0.0</td><td>0.0</td><td>0.0</td><td>0.0</td><td>0.0</td><td>0.0</td><td>0.0</td><td>0.0</td><td>0.0</td><td>0.0</td><td>0.0</td><td>0.0</td><td>0.0</td><td>0.0</td><td>0.0</td><td>0.0</td><td>0.0</td><td>0.0</td><td>0.0</td><td>0.0</td><td>0.0</td><td>0.0</td><td>0.0</td></tr><tr><td>&quot;mean&quot;</td><td>499999.5</td><td>0.541233</td><td>38.400587</td><td>0.998032</td><td>26.433416</td><td>0.462342</td><td>0.603346</td><td>0.502973</td><td>30460.636719</td><td>112.319084</td><td>163.984809</td><td>0.122599</td><td>0.123003</td><td>0.123078</td><td>0.123017</td><td>0.122966</td><td>0.122974</td><td>0.125764</td><td>0.123108</td><td>0.122901</td><td>39.257772</td><td>0.438487</td><td>0.479118</td><td>8.2991e-18</td></tr><tr><td>&quot;std&quot;</td><td>288675.278932</td><td>0.498297</td><td>15.009305</td><td>0.044318</td><td>12.989754</td><td>0.49858</td><td>0.567329</td><td>0.499991</td><td>16426.25</td><td>54.093704</td><td>79.934434</td><td>0.327977</td><td>0.118198</td><td>0.113577</td><td>0.075846</td><td>0.003014</td><td>0.08112</td><td>0.05386</td><td>0.089212</td><td>0.018138</td><td>26.314457</td><td>0.496202</td><td>0.499564</td><td>0.295622</td></tr><tr><td>&quot;min&quot;</td><td>0.0</td><td>0.0</td><td>20.0</td><td>0.0</td><td>0.0</td><td>0.0</td><td>0.0</td><td>0.0</td><td>2630.0</td><td>1.0</td><td>10.0</td><td>0.0</td><td>0.0041</td><td>0.0006</td><td>0.0414</td><td>0.0551</td><td>0.0</td><td>0.042442</td><td>0.0</td><td>0.1032</td><td>0.0</td><td>0.0</td><td>0.0</td><td>-0.838542</td></tr><tr><td>&quot;25%&quot;</td><td>250000.0</td><td>0.0</td><td>24.0</td><td>1.0</td><td>15.0</td><td>0.0</td><td>0.0</td><td>0.0</td><td>25275.0</td><td>26.0</td><td>99.0</td><td>0.0</td><td>0.0041</td><td>0.0006</td><td>0.0414</td><td>0.1231</td><td>0.032953</td><td>0.087287</td><td>0.026222</td><td>0.1032</td><td>12.035194</td><td>0.0</td><td>0.0</td><td>-0.154586</td></tr><tr><td>&quot;50%&quot;</td><td>500000.0</td><td>1.0</td><td>36.0</td><td>1.0</td><td>28.0</td><td>0.0</td><td>1.0</td><td>1.0</td><td>31824.0</td><td>150.0</td><td>166.0</td><td>0.0</td><td>0.2405</td><td>0.2284</td><td>0.1777</td><td>0.1231</td><td>0.126305</td><td>0.113501</td><td>0.171656</td><td>0.1396</td><td>34.565292</td><td>0.0</td><td>0.0</td><td>-0.000638</td></tr><tr><td>&quot;75%&quot;</td><td>749999.0</td><td>1.0</td><td>49.0</td><td>1.0</td><td>35.0</td><td>1.0</td><td>1.0</td><td>1.0</td><td>39461.0</td><td>152.0</td><td>232.0</td><td>0.0</td><td>0.2405</td><td>0.2284</td><td>0.1777</td><td>0.1231</td><td>0.214765</td><td>0.153049</td><td>0.207763</td><td>0.1396</td><td>68.827447</td><td>1.0</td><td>1.0</td><td>-0.00018</td></tr><tr><td>&quot;max&quot;</td><td>9.99999e5</td><td>1.0</td><td>85.0</td><td>1.0</td><td>52.0</td><td>1.0</td><td>2.0</td><td>1.0</td><td>540165.0</td><td>163.0</td><td>299.0</td><td>1.0</td><td>0.2405</td><td>0.2284</td><td>0.299</td><td>0.1231</td><td>0.233275</td><td>0.320056</td><td>0.833333</td><td>0.1396</td><td>94.390464</td><td>1.0</td><td>1.0</td><td>0.999861</td></tr></tbody></table></div>"
      ],
      "text/plain": [
       "shape: (9, 25)\n",
       "┌───────────┬───────────┬──────────┬───────────┬───┬───────────┬───────────┬───────────┬───────────┐\n",
       "│ statistic ┆ id        ┆ Gender   ┆ Age       ┆ … ┆ weight    ┆ pinsuredx ┆ pinsuredx ┆ residual  │\n",
       "│ ---       ┆ ---       ┆ ---      ┆ ---       ┆   ┆ ---       ┆ vdamage1  ┆ vdamage2  ┆ ---       │\n",
       "│ str       ┆ f64       ┆ f64      ┆ f64       ┆   ┆ f64       ┆ ---       ┆ ---       ┆ f64       │\n",
       "│           ┆           ┆          ┆           ┆   ┆           ┆ f64       ┆ f64       ┆           │\n",
       "╞═══════════╪═══════════╪══════════╪═══════════╪═══╪═══════════╪═══════════╪═══════════╪═══════════╡\n",
       "│ count     ┆ 1e6       ┆ 1e6      ┆ 1e6       ┆ … ┆ 1e6       ┆ 1e6       ┆ 1e6       ┆ 1e6       │\n",
       "│ null_coun ┆ 0.0       ┆ 0.0      ┆ 0.0       ┆ … ┆ 0.0       ┆ 0.0       ┆ 0.0       ┆ 0.0       │\n",
       "│ t         ┆           ┆          ┆           ┆   ┆           ┆           ┆           ┆           │\n",
       "│ mean      ┆ 499999.5  ┆ 0.541233 ┆ 38.400587 ┆ … ┆ 39.257772 ┆ 0.438487  ┆ 0.479118  ┆ 8.2991e-1 │\n",
       "│           ┆           ┆          ┆           ┆   ┆           ┆           ┆           ┆ 8         │\n",
       "│ std       ┆ 288675.27 ┆ 0.498297 ┆ 15.009305 ┆ … ┆ 26.314457 ┆ 0.496202  ┆ 0.499564  ┆ 0.295622  │\n",
       "│           ┆ 8932      ┆          ┆           ┆   ┆           ┆           ┆           ┆           │\n",
       "│ min       ┆ 0.0       ┆ 0.0      ┆ 20.0      ┆ … ┆ 0.0       ┆ 0.0       ┆ 0.0       ┆ -0.838542 │\n",
       "│ 25%       ┆ 250000.0  ┆ 0.0      ┆ 24.0      ┆ … ┆ 12.035194 ┆ 0.0       ┆ 0.0       ┆ -0.154586 │\n",
       "│ 50%       ┆ 500000.0  ┆ 1.0      ┆ 36.0      ┆ … ┆ 34.565292 ┆ 0.0       ┆ 0.0       ┆ -0.000638 │\n",
       "│ 75%       ┆ 749999.0  ┆ 1.0      ┆ 49.0      ┆ … ┆ 68.827447 ┆ 1.0       ┆ 1.0       ┆ -0.00018  │\n",
       "│ max       ┆ 9.99999e5 ┆ 1.0      ┆ 85.0      ┆ … ┆ 94.390464 ┆ 1.0       ┆ 1.0       ┆ 0.999861  │\n",
       "└───────────┴───────────┴──────────┴───────────┴───┴───────────┴───────────┴───────────┴───────────┘"
      ]
     },
     "execution_count": 87,
     "metadata": {},
     "output_type": "execute_result"
    }
   ],
   "source": [
    "b.describe()"
   ]
  },
  {
   "cell_type": "code",
   "execution_count": 67,
   "id": "51718aea-8529-4561-a6d8-543a5c4e0ef3",
   "metadata": {},
   "outputs": [
    {
     "data": {
      "text/html": [
       "<div><style>\n",
       ".dataframe > thead > tr,\n",
       ".dataframe > tbody > tr {\n",
       "  text-align: right;\n",
       "  white-space: pre-wrap;\n",
       "}\n",
       "</style>\n",
       "<small>shape: (9, 25)</small><table border=\"1\" class=\"dataframe\"><thead><tr><th>statistic</th><th>id</th><th>Gender</th><th>Age</th><th>Driving_License</th><th>Region_Code</th><th>Previously_Insured</th><th>Vehicle_Age</th><th>Vehicle_Damage</th><th>Annual_Premium</th><th>Policy_Sales_Channel</th><th>Vintage</th><th>Response</th><th>vdamage_proba</th><th>pinsured_proba</th><th>vage_proba</th><th>dlicence_proba</th><th>age_proba</th><th>vintage_proba</th><th>psc_proba</th><th>gender_proba</th><th>weight</th><th>pinsuredxvdamage1</th><th>pinsuredxvdamage2</th><th>residual</th></tr><tr><td>str</td><td>f64</td><td>f64</td><td>f64</td><td>f64</td><td>f64</td><td>f64</td><td>f64</td><td>f64</td><td>f64</td><td>f64</td><td>f64</td><td>f64</td><td>f64</td><td>f64</td><td>f64</td><td>f64</td><td>f64</td><td>f64</td><td>f64</td><td>f64</td><td>f64</td><td>f64</td><td>f64</td><td>f64</td></tr></thead><tbody><tr><td>&quot;count&quot;</td><td>1427.0</td><td>1427.0</td><td>1427.0</td><td>1427.0</td><td>1427.0</td><td>1427.0</td><td>1427.0</td><td>1427.0</td><td>1427.0</td><td>1427.0</td><td>1427.0</td><td>1427.0</td><td>1427.0</td><td>1427.0</td><td>1427.0</td><td>1427.0</td><td>1427.0</td><td>1427.0</td><td>1427.0</td><td>1427.0</td><td>1427.0</td><td>1427.0</td><td>1427.0</td><td>1427.0</td></tr><tr><td>&quot;null_count&quot;</td><td>0.0</td><td>0.0</td><td>0.0</td><td>0.0</td><td>0.0</td><td>0.0</td><td>0.0</td><td>0.0</td><td>0.0</td><td>0.0</td><td>0.0</td><td>0.0</td><td>0.0</td><td>0.0</td><td>0.0</td><td>0.0</td><td>0.0</td><td>0.0</td><td>0.0</td><td>0.0</td><td>0.0</td><td>0.0</td><td>0.0</td><td>0.0</td></tr><tr><td>&quot;mean&quot;</td><td>489196.508059</td><td>0.550806</td><td>34.121934</td><td>0.992992</td><td>25.141556</td><td>0.210231</td><td>0.422565</td><td>0.121233</td><td>20957.302734</td><td>127.566223</td><td>161.89979</td><td>1.0</td><td>0.03276</td><td>0.180509</td><td>0.098954</td><td>0.122623</td><td>0.101358</td><td>0.125289</td><td>0.107601</td><td>0.123249</td><td>28.627057</td><td>0.098108</td><td>0.00911</td><td>0.978729</td></tr><tr><td>&quot;std&quot;</td><td>282823.145702</td><td>0.497586</td><td>13.732895</td><td>0.083447</td><td>13.375927</td><td>0.407616</td><td>0.499785</td><td>0.326513</td><td>16514.486328</td><td>48.797779</td><td>79.071987</td><td>0.0</td><td>0.077188</td><td>0.092855</td><td>0.067992</td><td>0.005674</td><td>0.07712</td><td>0.05309</td><td>0.091221</td><td>0.018112</td><td>9.147297</td><td>0.297565</td><td>0.095044</td><td>0.014266</td></tr><tr><td>&quot;min&quot;</td><td>825.0</td><td>0.0</td><td>20.0</td><td>0.0</td><td>0.0</td><td>0.0</td><td>0.0</td><td>0.0</td><td>2630.0</td><td>1.0</td><td>10.0</td><td>1.0</td><td>0.0041</td><td>0.0006</td><td>0.0414</td><td>0.0551</td><td>0.022438</td><td>0.042442</td><td>0.020696</td><td>0.1032</td><td>9.269441</td><td>0.0</td><td>0.0</td><td>0.950002</td></tr><tr><td>&quot;25%&quot;</td><td>247226.0</td><td>0.0</td><td>24.0</td><td>1.0</td><td>13.0</td><td>0.0</td><td>0.0</td><td>0.0</td><td>2630.0</td><td>124.0</td><td>101.0</td><td>1.0</td><td>0.0041</td><td>0.2284</td><td>0.0414</td><td>0.1231</td><td>0.032568</td><td>0.087287</td><td>0.026222</td><td>0.1032</td><td>21.894971</td><td>0.0</td><td>0.0</td><td>0.966684</td></tr><tr><td>&quot;50%&quot;</td><td>483787.0</td><td>1.0</td><td>28.0</td><td>1.0</td><td>28.0</td><td>0.0</td><td>0.0</td><td>0.0</td><td>26182.0</td><td>152.0</td><td>170.0</td><td>1.0</td><td>0.0041</td><td>0.2284</td><td>0.0414</td><td>0.1231</td><td>0.068727</td><td>0.115085</td><td>0.026222</td><td>0.1396</td><td>25.216455</td><td>0.0</td><td>0.0</td><td>0.984446</td></tr><tr><td>&quot;75%&quot;</td><td>728490.0</td><td>1.0</td><td>44.0</td><td>1.0</td><td>35.0</td><td>0.0</td><td>1.0</td><td>0.0</td><td>33416.0</td><td>156.0</td><td>228.0</td><td>1.0</td><td>0.0041</td><td>0.2284</td><td>0.1777</td><td>0.1231</td><td>0.186159</td><td>0.152836</td><td>0.204927</td><td>0.1396</td><td>36.146348</td><td>0.0</td><td>0.0</td><td>0.986862</td></tr><tr><td>&quot;max&quot;</td><td>999492.0</td><td>1.0</td><td>80.0</td><td>1.0</td><td>52.0</td><td>1.0</td><td>2.0</td><td>1.0</td><td>75912.0</td><td>163.0</td><td>299.0</td><td>1.0</td><td>0.2405</td><td>0.2284</td><td>0.299</td><td>0.1231</td><td>0.233275</td><td>0.320056</td><td>0.315977</td><td>0.1396</td><td>57.258587</td><td>1.0</td><td>1.0</td><td>0.99986</td></tr></tbody></table></div>"
      ],
      "text/plain": [
       "shape: (9, 25)\n",
       "┌────────────┬───────────┬──────────┬───────────┬───┬───────────┬───────────┬───────────┬──────────┐\n",
       "│ statistic  ┆ id        ┆ Gender   ┆ Age       ┆ … ┆ weight    ┆ pinsuredx ┆ pinsuredx ┆ residual │\n",
       "│ ---        ┆ ---       ┆ ---      ┆ ---       ┆   ┆ ---       ┆ vdamage1  ┆ vdamage2  ┆ ---      │\n",
       "│ str        ┆ f64       ┆ f64      ┆ f64       ┆   ┆ f64       ┆ ---       ┆ ---       ┆ f64      │\n",
       "│            ┆           ┆          ┆           ┆   ┆           ┆ f64       ┆ f64       ┆          │\n",
       "╞════════════╪═══════════╪══════════╪═══════════╪═══╪═══════════╪═══════════╪═══════════╪══════════╡\n",
       "│ count      ┆ 1427.0    ┆ 1427.0   ┆ 1427.0    ┆ … ┆ 1427.0    ┆ 1427.0    ┆ 1427.0    ┆ 1427.0   │\n",
       "│ null_count ┆ 0.0       ┆ 0.0      ┆ 0.0       ┆ … ┆ 0.0       ┆ 0.0       ┆ 0.0       ┆ 0.0      │\n",
       "│ mean       ┆ 489196.50 ┆ 0.550806 ┆ 34.121934 ┆ … ┆ 28.627057 ┆ 0.098108  ┆ 0.00911   ┆ 0.978729 │\n",
       "│            ┆ 8059      ┆          ┆           ┆   ┆           ┆           ┆           ┆          │\n",
       "│ std        ┆ 282823.14 ┆ 0.497586 ┆ 13.732895 ┆ … ┆ 9.147297  ┆ 0.297565  ┆ 0.095044  ┆ 0.014266 │\n",
       "│            ┆ 5702      ┆          ┆           ┆   ┆           ┆           ┆           ┆          │\n",
       "│ min        ┆ 825.0     ┆ 0.0      ┆ 20.0      ┆ … ┆ 9.269441  ┆ 0.0       ┆ 0.0       ┆ 0.950002 │\n",
       "│ 25%        ┆ 247226.0  ┆ 0.0      ┆ 24.0      ┆ … ┆ 21.894971 ┆ 0.0       ┆ 0.0       ┆ 0.966684 │\n",
       "│ 50%        ┆ 483787.0  ┆ 1.0      ┆ 28.0      ┆ … ┆ 25.216455 ┆ 0.0       ┆ 0.0       ┆ 0.984446 │\n",
       "│ 75%        ┆ 728490.0  ┆ 1.0      ┆ 44.0      ┆ … ┆ 36.146348 ┆ 0.0       ┆ 0.0       ┆ 0.986862 │\n",
       "│ max        ┆ 999492.0  ┆ 1.0      ┆ 80.0      ┆ … ┆ 57.258587 ┆ 1.0       ┆ 1.0       ┆ 0.99986  │\n",
       "└────────────┴───────────┴──────────┴───────────┴───┴───────────┴───────────┴───────────┴──────────┘"
      ]
     },
     "execution_count": 67,
     "metadata": {},
     "output_type": "execute_result"
    }
   ],
   "source": [
    "b.filter(pl.col('id').is_in(ids)).describe()"
   ]
  },
  {
   "cell_type": "code",
   "execution_count": 89,
   "id": "5fb89205-031c-4505-ac69-5edf854e8f64",
   "metadata": {},
   "outputs": [],
   "source": [
    "c = b.drop('Response').to_pandas()"
   ]
  },
  {
   "cell_type": "code",
   "execution_count": 90,
   "id": "3ae38640-842b-4922-b76d-72a0434fd629",
   "metadata": {},
   "outputs": [
    {
     "data": {
      "image/png": "[encoded data removed]",
      "text/plain": [
       "<Figure size 1000x800 with 2 Axes>"
      ]
     },
     "metadata": {},
     "output_type": "display_data"
    },
    {
     "name": "stdout",
     "output_type": "stream",
     "text": [
      "Elapsed time [m]:  0.2175\n"
     ]
    }
   ],
   "source": [
    "t1 = time.time()\n",
    "# Pearson method for this one since air temperature has linear relationship with heating tendency\n",
    "corr = pd.DataFrame(c.corrwith(c['residual'], method='spearman'), columns=['Correlation'])\n",
    "\n",
    "plt.figure(figsize=(10, 8))\n",
    "sns.heatmap(corr, annot=True, cmap='coolwarm', fmt='.5f')\n",
    "plt.title('Correlation Matrix Heatmap')\n",
    "plt.show()\n",
    "t2 = time.time()\n",
    "print('Elapsed time [m]: ', np.round((t2-t1)/60,4))"
   ]
  },
  {
   "cell_type": "markdown",
   "id": "26536229-30bd-4728-b380-68c13b75e243",
   "metadata": {},
   "source": [
    "# Training Again"
   ]
  },
  {
   "cell_type": "code",
   "execution_count": 91,
   "id": "e7b6cef8-f58a-4f46-a2d7-710536907820",
   "metadata": {},
   "outputs": [],
   "source": [
    "a = train[:1000000].filter(~pl.col('id').is_in(ids)).to_pandas()"
   ]
  },
  {
   "cell_type": "code",
   "execution_count": 92,
   "id": "b986842f-8c53-417c-9bc4-aa660743c90d",
   "metadata": {},
   "outputs": [],
   "source": [
    "X = a[mandatory] #.values\n",
    "y = a['Response'] #.values"
   ]
  },
  {
   "cell_type": "code",
   "execution_count": null,
   "id": "39bb6c30-87f5-4164-99ad-fb65bfd18544",
   "metadata": {},
   "outputs": [],
   "source": [
    "cross_validate(X, y, weights, 5)"
   ]
  },
  {
   "cell_type": "code",
   "execution_count": 48,
   "id": "9d54e0ac-55e4-4e98-a9a9-dd689d986727",
   "metadata": {},
   "outputs": [
    {
     "name": "stdout",
     "output_type": "stream",
     "text": [
      "Warning: Maximum number of iterations has been exceeded.\n",
      "         Current function value: 0.260067\n",
      "         Iterations: 35\n"
     ]
    }
   ],
   "source": [
    "model = train_logit_model(X, y)"
   ]
  },
  {
   "cell_type": "code",
   "execution_count": 49,
   "id": "f09fd6ea-574f-4afb-8100-361d452b6e5d",
   "metadata": {},
   "outputs": [
    {
     "name": "stdout",
     "output_type": "stream",
     "text": [
      "0.8564591358047323\n"
     ]
    }
   ],
   "source": [
    "X_test = sm.add_constant(X)\n",
    "y_pred = model.predict(X_test)\n",
    "print(roc_auc_score(y, y_pred))"
   ]
  },
  {
   "cell_type": "code",
   "execution_count": 78,
   "id": "39e382dc-7806-465a-a23b-d1b4e50112d2",
   "metadata": {},
   "outputs": [],
   "source": [
    "train[:1000000][num_cols] = scaler.inverse_transform(train[:1000000][num_cols])"
   ]
  },
  {
   "cell_type": "code",
   "execution_count": 82,
   "id": "f92d8365-630d-4832-acae-61ea9fa1268d",
   "metadata": {},
   "outputs": [],
   "source": [
    "a = train[:1000000].filter(~pl.col('id').is_in(ids)).to_pandas()"
   ]
  },
  {
   "cell_type": "code",
   "execution_count": 83,
   "id": "d755da3b-9cea-4b13-a3ef-03be97217312",
   "metadata": {},
   "outputs": [],
   "source": [
    "FOLDS = 5\n",
    "skf = StratifiedKFold(n_splits=FOLDS, shuffle=True, random_state=42)"
   ]
  },
  {
   "cell_type": "code",
   "execution_count": 65,
   "id": "8f561d3d-7231-404f-975f-0e2801329532",
   "metadata": {},
   "outputs": [
    {
     "data": {
      "text/plain": [
       "['age_proba',\n",
       " 'Vehicle_Damage',\n",
       " 'psc_proba',\n",
       " 'Previously_Insured',\n",
       " 'dlicence_proba',\n",
       " 'Annual_Premium',\n",
       " 'Policy_Sales_Channel',\n",
       " 'Age',\n",
       " 'vintage_proba',\n",
       " 'pinsuredxvdamage1',\n",
       " 'pinsuredxvdamage2']"
      ]
     },
     "execution_count": 65,
     "metadata": {},
     "output_type": "execute_result"
    }
   ],
   "source": [
    "X.columns.values.tolist()"
   ]
  },
  {
   "cell_type": "code",
   "execution_count": 72,
   "id": "58f1288f-5661-4eb9-9a36-7b2fd65843e6",
   "metadata": {
    "scrolled": true
   },
   "outputs": [
    {
     "name": "stdout",
     "output_type": "stream",
     "text": [
      "#########################\n",
      "# Fold 1\n",
      "#########################\n",
      "0:\ttest: 0.8586668\tbest: 0.8586668 (0)\ttotal: 656ms\tremaining: 54m 38s\n",
      "500:\ttest: 0.8761386\tbest: 0.8761386 (500)\ttotal: 4m 18s\tremaining: 38m 39s\n",
      "Stopped by overfitting detector  (100 iterations wait)\n",
      "\n",
      "bestTest = 0.8764425404\n",
      "bestIteration = 693\n",
      "\n",
      "Shrink model to first 694 iterations.\n",
      "Fold ROC-AUC score:  0.8764425403977779\n",
      "#########################\n",
      "# Fold 2\n",
      "#########################\n",
      "0:\ttest: 0.8576157\tbest: 0.8576157 (0)\ttotal: 504ms\tremaining: 41m 57s\n",
      "500:\ttest: 0.8753025\tbest: 0.8753025 (500)\ttotal: 4m 37s\tremaining: 41m 29s\n",
      "Stopped by overfitting detector  (100 iterations wait)\n",
      "\n",
      "bestTest = 0.8756855236\n",
      "bestIteration = 732\n",
      "\n",
      "Shrink model to first 733 iterations.\n",
      "Fold ROC-AUC score:  0.8756855236383319\n",
      "#########################\n",
      "# Fold 3\n",
      "#########################\n",
      "0:\ttest: 0.8580526\tbest: 0.8580526 (0)\ttotal: 482ms\tremaining: 40m 8s\n",
      "500:\ttest: 0.8758484\tbest: 0.8758621 (496)\ttotal: 3m 29s\tremaining: 31m 18s\n",
      "Stopped by overfitting detector  (100 iterations wait)\n",
      "\n",
      "bestTest = 0.8761665079\n",
      "bestIteration = 813\n",
      "\n",
      "Shrink model to first 814 iterations.\n",
      "Fold ROC-AUC score:  0.8761665078834256\n",
      "#########################\n",
      "# Fold 4\n",
      "#########################\n",
      "0:\ttest: 0.8581808\tbest: 0.8581808 (0)\ttotal: 561ms\tremaining: 46m 45s\n",
      "500:\ttest: 0.8745153\tbest: 0.8745153 (500)\ttotal: 2m 53s\tremaining: 25m 56s\n",
      "Stopped by overfitting detector  (100 iterations wait)\n",
      "\n",
      "bestTest = 0.8746275073\n",
      "bestIteration = 531\n",
      "\n",
      "Shrink model to first 532 iterations.\n",
      "Fold ROC-AUC score:  0.8746275072695124\n",
      "#########################\n",
      "# Fold 5\n",
      "#########################\n",
      "0:\ttest: 0.8599081\tbest: 0.8599081 (0)\ttotal: 318ms\tremaining: 26m 27s\n",
      "500:\ttest: 0.8763099\tbest: 0.8763177 (496)\ttotal: 2m 53s\tremaining: 25m 57s\n",
      "Stopped by overfitting detector  (100 iterations wait)\n",
      "\n",
      "bestTest = 0.87662293\n",
      "bestIteration = 627\n",
      "\n",
      "Shrink model to first 628 iterations.\n",
      "Fold ROC-AUC score:  0.876622930017731\n",
      "Mean ROC-AUC score:  0.8759090018413558\n",
      "Best ROC-AUC score:  0.876622930017731\n"
     ]
    }
   ],
   "source": [
    "scores = []\n",
    "\n",
    "best_score = 0\n",
    "best_model = None\n",
    "\n",
    "for fold, (train_idx, val_idx) in enumerate(skf.split(X, y)):\n",
    "    print(\"#\" * 25)\n",
    "    print(f\"# Fold {fold + 1}\")\n",
    "    print(\"#\" * 25)\n",
    "    X_train_fold = X.loc[train_idx]\n",
    "    y_train_fold = y.loc[train_idx].values\n",
    "    X_val_fold = X.loc[val_idx]\n",
    "    y_val_fold = y.loc[val_idx].values\n",
    "    X_train_pool = Pool(X_train_fold, y_train_fold)\n",
    "    X_val_pool = Pool(X_val_fold, y_val_fold)\n",
    "    \n",
    "    # Train CatBoost\n",
    "    model_1 = cb.CatBoostClassifier(\n",
    "        loss_function='Logloss',\n",
    "        eval_metric='AUC',\n",
    "        class_names=[0, 1],\n",
    "        learning_rate=0.075,\n",
    "        iterations=5000,\n",
    "        depth=9,\n",
    "        random_strength=0,\n",
    "        l2_leaf_reg=0.5,\n",
    "        max_leaves=512,\n",
    "        fold_permutation_block=64,\n",
    "        random_seed=42,\n",
    "        verbose=False\n",
    "    )\n",
    "\n",
    "    model_1.fit(X=X_train_pool, \n",
    "              eval_set=X_val_pool, \n",
    "              verbose=500, \n",
    "              early_stopping_rounds=200)\n",
    "\n",
    "    score = model_1.best_score_['validation']['AUC']\n",
    "    print('Fold ROC-AUC score: ', score)\n",
    "    scores.append(score)\n",
    "\n",
    "    if score > best_score:\n",
    "        best_score = score\n",
    "        best_model = model_1\n",
    "\n",
    "    del model_1\n",
    "    del X_train_fold, y_train_fold\n",
    "    del X_val_fold, y_val_fold\n",
    "    del X_train_pool, X_val_pool\n",
    "    gc.collect()\n",
    "\n",
    "print('Mean ROC-AUC score: ', sum(scores) / FOLDS)\n",
    "print('Best ROC-AUC score: ', best_score)\n",
    "model_1 = best_model\n",
    "del best_model"
   ]
  },
  {
   "cell_type": "code",
   "execution_count": 73,
   "id": "993e963c-e8b1-433f-843a-b6082e0ebef4",
   "metadata": {},
   "outputs": [
    {
     "data": {
      "text/plain": [
       "<catboost.core.CatBoostClassifier at 0x7fdb444b1f90>"
      ]
     },
     "execution_count": 73,
     "metadata": {},
     "output_type": "execute_result"
    }
   ],
   "source": [
    "model_1"
   ]
  },
  {
   "cell_type": "code",
   "execution_count": 93,
   "id": "b9bba3b0-ca84-4b62-af52-973e19977831",
   "metadata": {},
   "outputs": [],
   "source": [
    "X_train, X_test, y_train, y_test = train_test_split(X, y, test_size=0.15, random_state=42)"
   ]
  },
  {
   "cell_type": "code",
   "execution_count": 95,
   "id": "1f454eb5-ceb3-4c74-b77f-954fe766a10a",
   "metadata": {
    "scrolled": true
   },
   "outputs": [
    {
     "name": "stdout",
     "output_type": "stream",
     "text": [
      "[0]\tvalidation_0-auc:0.83947\n",
      "[1]\tvalidation_0-auc:0.83973\n",
      "[2]\tvalidation_0-auc:0.83951\n",
      "[3]\tvalidation_0-auc:0.85452\n",
      "[4]\tvalidation_0-auc:0.85563\n",
      "[5]\tvalidation_0-auc:0.85936\n",
      "[6]\tvalidation_0-auc:0.86040\n",
      "[7]\tvalidation_0-auc:0.86148\n",
      "[8]\tvalidation_0-auc:0.86123\n",
      "[9]\tvalidation_0-auc:0.86129\n",
      "[10]\tvalidation_0-auc:0.86421\n",
      "[11]\tvalidation_0-auc:0.86552\n",
      "[12]\tvalidation_0-auc:0.86494\n",
      "[13]\tvalidation_0-auc:0.86565\n",
      "[14]\tvalidation_0-auc:0.86556\n",
      "[15]\tvalidation_0-auc:0.86627\n",
      "[16]\tvalidation_0-auc:0.86547\n",
      "[17]\tvalidation_0-auc:0.86580\n",
      "[18]\tvalidation_0-auc:0.86580\n",
      "[19]\tvalidation_0-auc:0.86484\n",
      "[20]\tvalidation_0-auc:0.86462\n",
      "[21]\tvalidation_0-auc:0.86491\n",
      "[22]\tvalidation_0-auc:0.86547\n",
      "[23]\tvalidation_0-auc:0.86569\n",
      "[24]\tvalidation_0-auc:0.86592\n",
      "[25]\tvalidation_0-auc:0.86602\n",
      "[26]\tvalidation_0-auc:0.86592\n",
      "[27]\tvalidation_0-auc:0.86640\n",
      "[28]\tvalidation_0-auc:0.86676\n",
      "[29]\tvalidation_0-auc:0.86674\n",
      "[30]\tvalidation_0-auc:0.86689\n",
      "[31]\tvalidation_0-auc:0.86693\n",
      "[32]\tvalidation_0-auc:0.86710\n",
      "[33]\tvalidation_0-auc:0.86709\n",
      "[34]\tvalidation_0-auc:0.86730\n",
      "[35]\tvalidation_0-auc:0.86743\n",
      "[36]\tvalidation_0-auc:0.86737\n",
      "[37]\tvalidation_0-auc:0.86737\n",
      "[38]\tvalidation_0-auc:0.86715\n",
      "[39]\tvalidation_0-auc:0.86752\n",
      "[40]\tvalidation_0-auc:0.86747\n",
      "[41]\tvalidation_0-auc:0.86756\n",
      "[42]\tvalidation_0-auc:0.86779\n",
      "[43]\tvalidation_0-auc:0.86767\n",
      "[44]\tvalidation_0-auc:0.86752\n",
      "[45]\tvalidation_0-auc:0.86748\n",
      "[46]\tvalidation_0-auc:0.86748\n",
      "[47]\tvalidation_0-auc:0.86771\n",
      "[48]\tvalidation_0-auc:0.86759\n",
      "[49]\tvalidation_0-auc:0.86753\n",
      "[50]\tvalidation_0-auc:0.86740\n",
      "[51]\tvalidation_0-auc:0.86793\n",
      "[52]\tvalidation_0-auc:0.86798\n",
      "[53]\tvalidation_0-auc:0.86788\n",
      "[54]\tvalidation_0-auc:0.86779\n",
      "[55]\tvalidation_0-auc:0.86800\n",
      "[56]\tvalidation_0-auc:0.86790\n",
      "[57]\tvalidation_0-auc:0.86772\n",
      "[58]\tvalidation_0-auc:0.86767\n",
      "[59]\tvalidation_0-auc:0.86790\n",
      "[60]\tvalidation_0-auc:0.86808\n",
      "[61]\tvalidation_0-auc:0.86806\n",
      "[62]\tvalidation_0-auc:0.86815\n",
      "[63]\tvalidation_0-auc:0.86838\n",
      "[64]\tvalidation_0-auc:0.86811\n",
      "[65]\tvalidation_0-auc:0.86806\n",
      "[66]\tvalidation_0-auc:0.86827\n",
      "[67]\tvalidation_0-auc:0.86814\n",
      "[68]\tvalidation_0-auc:0.86820\n",
      "[69]\tvalidation_0-auc:0.86839\n",
      "[70]\tvalidation_0-auc:0.86822\n",
      "[71]\tvalidation_0-auc:0.86822\n",
      "[72]\tvalidation_0-auc:0.86848\n",
      "[73]\tvalidation_0-auc:0.86836\n",
      "[74]\tvalidation_0-auc:0.86844\n",
      "[75]\tvalidation_0-auc:0.86839\n",
      "[76]\tvalidation_0-auc:0.86827\n",
      "[77]\tvalidation_0-auc:0.86840\n",
      "[78]\tvalidation_0-auc:0.86858\n",
      "[79]\tvalidation_0-auc:0.86847\n",
      "[80]\tvalidation_0-auc:0.86847\n",
      "[81]\tvalidation_0-auc:0.86858\n",
      "[82]\tvalidation_0-auc:0.86877\n",
      "[83]\tvalidation_0-auc:0.86885\n",
      "[84]\tvalidation_0-auc:0.86872\n",
      "[85]\tvalidation_0-auc:0.86873\n",
      "[86]\tvalidation_0-auc:0.86889\n",
      "[87]\tvalidation_0-auc:0.86885\n",
      "[88]\tvalidation_0-auc:0.86905\n",
      "[89]\tvalidation_0-auc:0.86910\n",
      "[90]\tvalidation_0-auc:0.86919\n",
      "[91]\tvalidation_0-auc:0.86937\n",
      "[92]\tvalidation_0-auc:0.86934\n",
      "[93]\tvalidation_0-auc:0.86949\n",
      "[94]\tvalidation_0-auc:0.86953\n",
      "[95]\tvalidation_0-auc:0.86960\n",
      "[96]\tvalidation_0-auc:0.86964\n",
      "[97]\tvalidation_0-auc:0.86970\n"
     ]
    },
    {
     "name": "stderr",
     "output_type": "stream",
     "text": [
      "IOStream.flush timed out\n"
     ]
    },
    {
     "name": "stdout",
     "output_type": "stream",
     "text": [
      "[98]\tvalidation_0-auc:0.86960\n",
      "[99]\tvalidation_0-auc:0.86968\n"
     ]
    }
   ],
   "source": [
    "model = train_xgboost_model(train, mandatory)"
   ]
  },
  {
   "cell_type": "code",
   "execution_count": 96,
   "id": "ea62de6b-48ee-4ae7-9585-6fe15636a07b",
   "metadata": {},
   "outputs": [
    {
     "name": "stdout",
     "output_type": "stream",
     "text": [
      "0.5095939300105629\n"
     ]
    }
   ],
   "source": [
    "y_pred = model.predict(X)\n",
    "print(roc_auc_score(y, y_pred))"
   ]
  },
  {
   "cell_type": "code",
   "execution_count": 71,
   "id": "5afbc803-f604-40e0-a42c-b51b0758c35e",
   "metadata": {},
   "outputs": [
    {
     "data": {
      "text/plain": [
       "1391"
      ]
     },
     "execution_count": 71,
     "metadata": {},
     "output_type": "execute_result"
    }
   ],
   "source": [
    "gc.collect()"
   ]
  },
  {
   "cell_type": "code",
   "execution_count": null,
   "id": "fa549a50-ea0c-49f6-8698-f5ab094ae53e",
   "metadata": {},
   "outputs": [],
   "source": [
    "del a, X, y, train, weights, b, c, corr"
   ]
  },
  {
   "cell_type": "markdown",
   "id": "cdfd4011-4211-4aa0-ac71-7af79118a88b",
   "metadata": {},
   "source": [
    "# Predict"
   ]
  },
  {
   "cell_type": "code",
   "execution_count": 77,
   "id": "d1969f30-acc4-402f-91df-047454d2cffc",
   "metadata": {},
   "outputs": [],
   "source": [
    "submit()"
   ]
  }
 ],
 "metadata": {
  "kernelspec": {
   "display_name": "Python 3 (ipykernel)",
   "language": "python",
   "name": "python3"
  },
  "language_info": {
   "codemirror_mode": {
    "name": "ipython",
    "version": 3
   },
   "file_extension": ".py",
   "mimetype": "text/x-python",
   "name": "python",
   "nbconvert_exporter": "python",
   "pygments_lexer": "ipython3",
   "version": "3.11.2"
  }
 },
 "nbformat": 4,
 "nbformat_minor": 5
}
